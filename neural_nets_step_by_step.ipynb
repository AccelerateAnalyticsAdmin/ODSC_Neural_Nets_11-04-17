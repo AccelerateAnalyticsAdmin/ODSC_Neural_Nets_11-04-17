{
 "cells": [
  {
   "cell_type": "markdown",
   "metadata": {
    "deletable": true,
    "editable": true,
    "slideshow": {
     "slide_type": "slide"
    }
   },
   "source": [
    "# Deep Learning from Scratch using Python \n",
    "\n",
    "Seth Weidman\n",
    "\n",
    "11/04/2017"
   ]
  },
  {
   "cell_type": "code",
   "execution_count": 1,
   "metadata": {
    "collapsed": true,
    "deletable": true,
    "editable": true
   },
   "outputs": [],
   "source": [
    "# import tensorflow as tf"
   ]
  },
  {
   "cell_type": "markdown",
   "metadata": {
    "deletable": true,
    "editable": true,
    "heading_collapsed": true
   },
   "source": [
    "#### Hide"
   ]
  },
  {
   "cell_type": "code",
   "execution_count": 3,
   "metadata": {
    "collapsed": false,
    "deletable": true,
    "editable": true,
    "hidden": true
   },
   "outputs": [
    {
     "data": {
      "text/html": [
       "<img src=\"https://gph.is/1xK7p6m\"/>"
      ],
      "text/plain": [
       "<IPython.core.display.Image object>"
      ]
     },
     "execution_count": 3,
     "metadata": {},
     "output_type": "execute_result"
    }
   ],
   "source": [
    "from IPython.display import Image\n",
    "Image(url='https://gph.is/1xK7p6m')"
   ]
  },
  {
   "cell_type": "code",
   "execution_count": null,
   "metadata": {
    "collapsed": true,
    "deletable": true,
    "editable": true,
    "hidden": true
   },
   "outputs": [],
   "source": []
  },
  {
   "cell_type": "markdown",
   "metadata": {
    "deletable": true,
    "editable": true
   },
   "source": [
    "# Outline\n",
    "\n",
    "This talk will have two parts:\n",
    "\n",
    "## Neural Nets from Scratch\n",
    "\n",
    "1. We'll implement a basic neural net with one hidden layer, from scratch, and use mathematical principles to get the backpropogation right.\n",
    "2. We'll show that this same framework can be used to learn MNIST.\n",
    "\n",
    "## Transitioning to Deep Learning\n",
    "\n",
    "1. We'll transition to Deep Learning by changing our mental model of neural nets to be that they contain \"layers\" which pass information backwards and forwards between them. \n",
    "2. We'll show how this framework can be used to construct arbitrarily deep neural networks, and show how these can learn MNIST."
   ]
  },
  {
   "cell_type": "markdown",
   "metadata": {
    "deletable": true,
    "editable": true,
    "slideshow": {
     "slide_type": "subslide"
    }
   },
   "source": [
    "# Neural Nets from Scratch:"
   ]
  },
  {
   "cell_type": "markdown",
   "metadata": {
    "deletable": true,
    "editable": true,
    "slideshow": {
     "slide_type": "fragment"
    }
   },
   "source": [
    "We've all seen diagrams like the following in the context of neural nets:"
   ]
  },
  {
   "cell_type": "markdown",
   "metadata": {
    "deletable": true,
    "editable": true,
    "slideshow": {
     "slide_type": "fragment"
    }
   },
   "source": [
    "<img src='img/neural_net_basic.png' height=200>"
   ]
  },
  {
   "cell_type": "markdown",
   "metadata": {
    "deletable": true,
    "editable": true
   },
   "source": [
    "Many don't fully understand what is going on in this diagram. This talk will attempt to rectify that."
   ]
  },
  {
   "cell_type": "markdown",
   "metadata": {
    "deletable": true,
    "editable": true,
    "slideshow": {
     "slide_type": "slide"
    }
   },
   "source": [
    "# Let's learn MNIST"
   ]
  },
  {
   "cell_type": "markdown",
   "metadata": {
    "deletable": true,
    "editable": true,
    "slideshow": {
     "slide_type": "subslide"
    }
   },
   "source": [
    "## Let's learn MNIST"
   ]
  },
  {
   "cell_type": "code",
   "execution_count": 1,
   "metadata": {
    "collapsed": true,
    "deletable": true,
    "editable": true,
    "slideshow": {
     "slide_type": "fragment"
    }
   },
   "outputs": [],
   "source": [
    "import matplotlib.pyplot as plt\n",
    "import numpy as np\n",
    "from sklearn.datasets import fetch_mldata\n",
    "import numpy as np\n",
    "from sklearn.model_selection import train_test_split\n",
    "%matplotlib inline\n",
    "mnist = fetch_mldata('MNIST original') "
   ]
  },
  {
   "cell_type": "markdown",
   "metadata": {
    "deletable": true,
    "editable": true,
    "slideshow": {
     "slide_type": "subslide"
    }
   },
   "source": [
    "## Let's learn MNIST"
   ]
  },
  {
   "cell_type": "code",
   "execution_count": 2,
   "metadata": {
    "collapsed": true,
    "deletable": true,
    "editable": true,
    "slideshow": {
     "slide_type": "fragment"
    }
   },
   "outputs": [],
   "source": [
    "def get_mnist_X_Y(mnist):\n",
    "    data = mnist.data\n",
    "    X = (data - data.min()) * 1.0 / (data.max() - data.min())\n",
    "    target = mnist.target\n",
    "    Y = np.zeros((len(target), 10))\n",
    "    for i in range(len(target)):\n",
    "        Y[i][int(target[i])] = 1 \n",
    "    print(\"Number of images: \", X.shape[0])\n",
    "    return X, Y"
   ]
  },
  {
   "cell_type": "code",
   "execution_count": 3,
   "metadata": {
    "collapsed": false,
    "deletable": true,
    "editable": true,
    "slideshow": {
     "slide_type": "fragment"
    }
   },
   "outputs": [
    {
     "name": "stdout",
     "output_type": "stream",
     "text": [
      "Number of images:  70000\n"
     ]
    }
   ],
   "source": [
    "X, Y = get_mnist_X_Y(mnist)"
   ]
  },
  {
   "cell_type": "code",
   "execution_count": 5,
   "metadata": {
    "collapsed": true,
    "deletable": true,
    "editable": true,
    "slideshow": {
     "slide_type": "fragment"
    }
   },
   "outputs": [],
   "source": [
    "train_prop = 0.9\n",
    "X_train, X_test, Y_train, Y_test = train_test_split(\n",
    "    X, Y, \n",
    "    test_size=1-train_prop, \n",
    "    random_state=823)"
   ]
  },
  {
   "cell_type": "markdown",
   "metadata": {
    "deletable": true,
    "editable": true,
    "slideshow": {
     "slide_type": "slide"
    }
   },
   "source": [
    "# Neural net, step by step"
   ]
  },
  {
   "cell_type": "markdown",
   "metadata": {
    "deletable": true,
    "editable": true,
    "slideshow": {
     "slide_type": "subslide"
    }
   },
   "source": [
    "## Neural net, step by step"
   ]
  },
  {
   "cell_type": "markdown",
   "metadata": {
    "deletable": true,
    "editable": true,
    "slideshow": {
     "slide_type": "fragment"
    }
   },
   "source": [
    "Step 1: Randomly shuffle the images in the training set"
   ]
  },
  {
   "cell_type": "code",
   "execution_count": 6,
   "metadata": {
    "collapsed": true,
    "deletable": true,
    "editable": true,
    "slideshow": {
     "slide_type": "fragment"
    }
   },
   "outputs": [],
   "source": [
    "np.random.seed(823)\n",
    "train_size = X_train.shape[0]\n",
    "indices = list(range(train_size))\n",
    "np.random.shuffle(indices)"
   ]
  },
  {
   "cell_type": "code",
   "execution_count": 7,
   "metadata": {
    "collapsed": true,
    "deletable": true,
    "editable": true,
    "slideshow": {
     "slide_type": "fragment"
    }
   },
   "outputs": [],
   "source": [
    "i = indices[0]"
   ]
  },
  {
   "cell_type": "markdown",
   "metadata": {
    "deletable": true,
    "editable": true,
    "slideshow": {
     "slide_type": "subslide"
    }
   },
   "source": [
    "## Neural net, step by step"
   ]
  },
  {
   "cell_type": "markdown",
   "metadata": {
    "deletable": true,
    "editable": true
   },
   "source": [
    "Let's just visualize an image:"
   ]
  },
  {
   "cell_type": "code",
   "execution_count": 8,
   "metadata": {
    "collapsed": true,
    "deletable": true,
    "editable": true,
    "slideshow": {
     "slide_type": "fragment"
    }
   },
   "outputs": [],
   "source": [
    "def visualize_image(index):\n",
    "    target = mnist.target\n",
    "    print(\"Label: \", int(target[index]))\n",
    "    plt.imshow(1.0 - X[index].reshape(28,28), cmap='gray')\n",
    "    plt.show() "
   ]
  },
  {
   "cell_type": "code",
   "execution_count": 9,
   "metadata": {
    "collapsed": false,
    "deletable": true,
    "editable": true,
    "slideshow": {
     "slide_type": "fragment"
    }
   },
   "outputs": [
    {
     "name": "stdout",
     "output_type": "stream",
     "text": [
      "Label:  7\n"
     ]
    },
    {
     "data": {
      "image/png": "[encoded data removed]",
      "text/plain": [
       "<matplotlib.figure.Figure at 0x11c9fe358>"
      ]
     },
     "metadata": {},
     "output_type": "display_data"
    }
   ],
   "source": [
    "visualize_image(i)"
   ]
  },
  {
   "cell_type": "code",
   "execution_count": 12,
   "metadata": {
    "collapsed": false,
    "deletable": true,
    "editable": true,
    "slideshow": {
     "slide_type": "fragment"
    }
   },
   "outputs": [
    {
     "data": {
      "text/plain": [
       "(1, 784)"
      ]
     },
     "execution_count": 12,
     "metadata": {},
     "output_type": "execute_result"
    }
   ],
   "source": [
    "x = np.array(X[i], ndmin=2)"
   ]
  },
  {
   "cell_type": "markdown",
   "metadata": {
    "deletable": true,
    "editable": true,
    "slideshow": {
     "slide_type": "subslide"
    }
   },
   "source": [
    "## Neural net, step by step"
   ]
  },
  {
   "cell_type": "markdown",
   "metadata": {
    "deletable": true,
    "editable": true,
    "slideshow": {
     "slide_type": "fragment"
    }
   },
   "source": [
    "Step 2: multiply this image by the first set of weights:"
   ]
  },
  {
   "cell_type": "code",
   "execution_count": 13,
   "metadata": {
    "collapsed": true,
    "deletable": true,
    "editable": true,
    "slideshow": {
     "slide_type": "fragment"
    }
   },
   "outputs": [],
   "source": [
    "V = np.random.randn(784, 50)"
   ]
  },
  {
   "cell_type": "code",
   "execution_count": 14,
   "metadata": {
    "collapsed": true,
    "deletable": true,
    "editable": true,
    "slideshow": {
     "slide_type": "fragment"
    }
   },
   "outputs": [],
   "source": [
    "A = np.dot(x,V)"
   ]
  },
  {
   "cell_type": "markdown",
   "metadata": {
    "deletable": true,
    "editable": true,
    "slideshow": {
     "slide_type": "fragment"
    }
   },
   "source": [
    "Now, we have transformed the 784 dimensional images into 50 \"hidden features\"."
   ]
  },
  {
   "cell_type": "code",
   "execution_count": 13,
   "metadata": {
    "collapsed": false,
    "deletable": true,
    "editable": true,
    "slideshow": {
     "slide_type": "fragment"
    }
   },
   "outputs": [
    {
     "data": {
      "image/png": "[encoded data removed]",
      "text/plain": [
       "<matplotlib.figure.Figure at 0x111889fd0>"
      ]
     },
     "metadata": {},
     "output_type": "display_data"
    }
   ],
   "source": [
    "plt.hist(A[0]);"
   ]
  },
  {
   "cell_type": "markdown",
   "metadata": {
    "deletable": true,
    "editable": true,
    "slideshow": {
     "slide_type": "subslide"
    }
   },
   "source": [
    "## Neural net, step by step"
   ]
  },
  {
   "cell_type": "markdown",
   "metadata": {
    "deletable": true,
    "editable": true,
    "slideshow": {
     "slide_type": "fragment"
    }
   },
   "source": [
    "**An intuition of what matrix multiplication does.**\n",
    "\n",
    "Let's say that each observation had three features $x_1$, $x_2$, and $x_3$, and we wanted to transform these three features into four hidden features, $a_1$, $a_2$, $a_3$, and $a_4$. How would we do this?"
   ]
  },
  {
   "cell_type": "markdown",
   "metadata": {
    "deletable": true,
    "editable": true,
    "slideshow": {
     "slide_type": "fragment"
    }
   },
   "source": [
    "Since we're transforming three features into four features, we'll use a 3 x 4 matrix to do this:\n",
    "\n",
    "$$ V = \\begin{bmatrix}v_{11} & v_{12} & v_{13} & v_{14} \\\\\n",
    "                      v_{21} & v_{22} & v_{23} & v_{24} \\\\\n",
    "                      v_{31} & v_{32} & v_{33} & v_{34}\n",
    "                      \\end{bmatrix} $$"
   ]
  },
  {
   "cell_type": "markdown",
   "metadata": {
    "deletable": true,
    "editable": true,
    "slideshow": {
     "slide_type": "subslide"
    }
   },
   "source": [
    "## Neural net, step by step"
   ]
  },
  {
   "cell_type": "markdown",
   "metadata": {
    "deletable": true,
    "editable": true,
    "slideshow": {
     "slide_type": "fragment"
    }
   },
   "source": [
    "And we would actually do the transformation as follows:\n",
    "\n",
    "$$ x_1 * v_{11} + x_2 * v_{21} + x_3 * v_{31} = a_1 $$\n",
    "$$ x_1 * v_{12} + x_2 * v_{22} + x_3 * v_{32} = a_2 $$\n",
    "$$ x_1 * v_{13} + x_2 * v_{23} + x_3 * v_{33} = a_3 $$\n",
    "$$ x_1 * v_{14} + x_2 * v_{24} + x_3 * v_{34} = a_4 $$"
   ]
  },
  {
   "cell_type": "markdown",
   "metadata": {
    "deletable": true,
    "editable": true,
    "slideshow": {
     "slide_type": "fragment"
    }
   },
   "source": [
    "This shows concretely that _each one of the hidden features is just a linear combination of the original features of your data_."
   ]
  },
  {
   "cell_type": "markdown",
   "metadata": {
    "deletable": true,
    "editable": true,
    "slideshow": {
     "slide_type": "subslide"
    }
   },
   "source": [
    "## Neural net, step by step"
   ]
  },
  {
   "cell_type": "markdown",
   "metadata": {
    "deletable": true,
    "editable": true,
    "slideshow": {
     "slide_type": "fragment"
    }
   },
   "source": [
    "**Step 3: feed these hidden features through the sigmoid**"
   ]
  },
  {
   "cell_type": "markdown",
   "metadata": {
    "deletable": true,
    "editable": true,
    "slideshow": {
     "slide_type": "fragment"
    }
   },
   "source": [
    "Refresher on the sigmoid"
   ]
  },
  {
   "cell_type": "code",
   "execution_count": 17,
   "metadata": {
    "collapsed": true,
    "deletable": true,
    "editable": true,
    "slideshow": {
     "slide_type": "fragment"
    }
   },
   "outputs": [],
   "source": [
    "def _sigmoid(x):\n",
    "    return 1.0/(1.0+np.exp(-x))"
   ]
  },
  {
   "cell_type": "markdown",
   "metadata": {
    "deletable": true,
    "editable": true,
    "slideshow": {
     "slide_type": "subslide"
    }
   },
   "source": [
    "## Neural net, step by step"
   ]
  },
  {
   "cell_type": "markdown",
   "metadata": {
    "deletable": true,
    "editable": true,
    "slideshow": {
     "slide_type": "fragment"
    }
   },
   "source": [
    "If we only had four hidden features, the transformation would simply be:"
   ]
  },
  {
   "cell_type": "markdown",
   "metadata": {
    "deletable": true,
    "editable": true,
    "slideshow": {
     "slide_type": "fragment"
    }
   },
   "source": [
    "$$ B = \\sigma(A) $$ or\n",
    "\n",
    "$$ b_1 = \\sigma(a_1) $$\n",
    "$$ b_2 = \\sigma(a_2) $$\n",
    "$$ b_3 = \\sigma(a_3) $$\n",
    "$$ b_4 = \\sigma(a_4) $$"
   ]
  },
  {
   "cell_type": "code",
   "execution_count": 18,
   "metadata": {
    "collapsed": false,
    "deletable": true,
    "editable": true,
    "slideshow": {
     "slide_type": "fragment"
    }
   },
   "outputs": [],
   "source": [
    "B = _sigmoid(A)"
   ]
  },
  {
   "cell_type": "code",
   "execution_count": 19,
   "metadata": {
    "collapsed": false,
    "deletable": true,
    "editable": true,
    "slideshow": {
     "slide_type": "subslide"
    }
   },
   "outputs": [
    {
     "data": {
      "image/png": "[encoded data removed]",
      "text/plain": [
       "<matplotlib.figure.Figure at 0x11cab1198>"
      ]
     },
     "metadata": {},
     "output_type": "display_data"
    }
   ],
   "source": [
    "plt.hist(B[0]);"
   ]
  },
  {
   "cell_type": "markdown",
   "metadata": {
    "deletable": true,
    "editable": true,
    "slideshow": {
     "slide_type": "subslide"
    }
   },
   "source": [
    "## Neural net, step by step"
   ]
  },
  {
   "cell_type": "markdown",
   "metadata": {
    "deletable": true,
    "editable": true,
    "slideshow": {
     "slide_type": "fragment"
    }
   },
   "source": [
    "**Step 4: multiply these sigmoided results by another matrix**"
   ]
  },
  {
   "cell_type": "code",
   "execution_count": 20,
   "metadata": {
    "collapsed": true,
    "deletable": true,
    "editable": true,
    "slideshow": {
     "slide_type": "fragment"
    }
   },
   "outputs": [],
   "source": [
    "W = np.random.randn(50, 10)\n",
    "C = np.dot(B,W)"
   ]
  },
  {
   "cell_type": "code",
   "execution_count": 21,
   "metadata": {
    "collapsed": false,
    "deletable": true,
    "editable": true,
    "slideshow": {
     "slide_type": "fragment"
    }
   },
   "outputs": [
    {
     "data": {
      "text/plain": [
       "array([-5.42111507, -1.06421335,  5.37162109, -0.4735506 , -6.62088777,\n",
       "        6.05475844,  4.64496753,  0.96904478, -0.71076214, -4.84316458])"
      ]
     },
     "execution_count": 21,
     "metadata": {},
     "output_type": "execute_result"
    }
   ],
   "source": [
    "C[0]"
   ]
  },
  {
   "cell_type": "code",
   "execution_count": 22,
   "metadata": {
    "collapsed": false,
    "deletable": true,
    "editable": true,
    "slideshow": {
     "slide_type": "fragment"
    }
   },
   "outputs": [
    {
     "data": {
      "image/png": "[encoded data removed]",
      "text/plain": [
       "<matplotlib.figure.Figure at 0x11ce3eac8>"
      ]
     },
     "metadata": {},
     "output_type": "display_data"
    }
   ],
   "source": [
    "plt.hist(C[0]);"
   ]
  },
  {
   "cell_type": "markdown",
   "metadata": {
    "deletable": true,
    "editable": true,
    "slideshow": {
     "slide_type": "subslide"
    }
   },
   "source": [
    "**Step 4: multiply these sigmoided results by another matrix**"
   ]
  },
  {
   "cell_type": "markdown",
   "metadata": {
    "deletable": true,
    "editable": true,
    "slideshow": {
     "slide_type": "fragment"
    }
   },
   "source": [
    "Again, suppose that we had four hidden features, and we wanted to combine them down into one final prediction, with a second set of weights, $W$:\n",
    "\n",
    "$$ W = \\begin{bmatrix}w_{11} \\\\\n",
    "                      w_{21} \\\\\n",
    "                      w_{31} \\\\\n",
    "                      w_{41}\n",
    "                      \\end{bmatrix} $$"
   ]
  },
  {
   "cell_type": "markdown",
   "metadata": {
    "deletable": true,
    "editable": true,
    "slideshow": {
     "slide_type": "fragment"
    }
   },
   "source": [
    "We would do it as follows:"
   ]
  },
  {
   "cell_type": "markdown",
   "metadata": {
    "deletable": true,
    "editable": true,
    "slideshow": {
     "slide_type": "fragment"
    }
   },
   "source": [
    "$$ C = C(B, W) $$ or\n",
    "\n",
    "$$ c_1 = w_{11} * b_1 + w_{21} * b_2 + w_{31} * b_3 + w_{41} * b_4 $$"
   ]
  },
  {
   "cell_type": "markdown",
   "metadata": {
    "deletable": true,
    "editable": true,
    "slideshow": {
     "slide_type": "subslide"
    }
   },
   "source": [
    "## Neural net, step by step"
   ]
  },
  {
   "cell_type": "markdown",
   "metadata": {
    "deletable": true,
    "editable": true,
    "slideshow": {
     "slide_type": "fragment"
    }
   },
   "source": [
    "**Step 5: Feed this through a sigmoid:**"
   ]
  },
  {
   "cell_type": "code",
   "execution_count": 23,
   "metadata": {
    "collapsed": true,
    "deletable": true,
    "editable": true,
    "slideshow": {
     "slide_type": "fragment"
    }
   },
   "outputs": [],
   "source": [
    "P = _sigmoid(C)"
   ]
  },
  {
   "cell_type": "markdown",
   "metadata": {
    "deletable": true,
    "editable": true,
    "slideshow": {
     "slide_type": "fragment"
    }
   },
   "source": [
    "Mathematically this is just:\n",
    "\n",
    "$ P_1 = \\sigma(c_1) $"
   ]
  },
  {
   "cell_type": "markdown",
   "metadata": {
    "deletable": true,
    "editable": true,
    "slideshow": {
     "slide_type": "subslide"
    }
   },
   "source": [
    "## Neural net, step by step"
   ]
  },
  {
   "cell_type": "code",
   "execution_count": 24,
   "metadata": {
    "collapsed": false,
    "deletable": true,
    "editable": true,
    "slideshow": {
     "slide_type": "fragment"
    }
   },
   "outputs": [
    {
     "data": {
      "image/png": "[encoded data removed]",
      "text/plain": [
       "<matplotlib.figure.Figure at 0x11cedee48>"
      ]
     },
     "metadata": {},
     "output_type": "display_data"
    }
   ],
   "source": [
    "plt.hist(P[0]);"
   ]
  },
  {
   "cell_type": "code",
   "execution_count": 25,
   "metadata": {
    "collapsed": false,
    "deletable": true,
    "editable": true,
    "slideshow": {
     "slide_type": "fragment"
    }
   },
   "outputs": [
    {
     "data": {
      "text/plain": [
       "array([ 0.00440274,  0.2565051 ,  0.9953749 ,  0.38377621,  0.00133048,\n",
       "        0.99765883,  0.99048163,  0.72492906,  0.32943046,  0.00782043])"
      ]
     },
     "execution_count": 25,
     "metadata": {},
     "output_type": "execute_result"
    }
   ],
   "source": [
    "P[0]"
   ]
  },
  {
   "cell_type": "markdown",
   "metadata": {
    "deletable": true,
    "editable": true,
    "slideshow": {
     "slide_type": "subslide"
    }
   },
   "source": [
    "## Neural net, step by step"
   ]
  },
  {
   "cell_type": "markdown",
   "metadata": {
    "deletable": true,
    "editable": true,
    "slideshow": {
     "slide_type": "fragment"
    }
   },
   "source": [
    "**Step 5: Compute the loss:**"
   ]
  },
  {
   "cell_type": "markdown",
   "metadata": {
    "deletable": true,
    "editable": true,
    "slideshow": {
     "slide_type": "fragment"
    }
   },
   "source": [
    "Mathematically, we'll compute mean squared error loss:"
   ]
  },
  {
   "cell_type": "markdown",
   "metadata": {
    "deletable": true,
    "editable": true,
    "slideshow": {
     "slide_type": "fragment"
    }
   },
   "source": [
    "$$ L_1 = \\frac{1}{2}(y - P_1)^2 $$"
   ]
  },
  {
   "cell_type": "code",
   "execution_count": 26,
   "metadata": {
    "collapsed": true,
    "deletable": true,
    "editable": true,
    "slideshow": {
     "slide_type": "fragment"
    }
   },
   "outputs": [],
   "source": [
    "y = np.array(Y[i], ndmin=2)\n",
    "L = 0.5 * (y - P) ** 2"
   ]
  },
  {
   "cell_type": "code",
   "execution_count": 27,
   "metadata": {
    "collapsed": false,
    "deletable": true,
    "editable": true,
    "slideshow": {
     "slide_type": "fragment"
    }
   },
   "outputs": [
    {
     "data": {
      "text/plain": [
       "array([[  9.69207282e-06,   3.28974338e-02,   4.95385594e-01,\n",
       "          7.36420895e-02,   8.85082089e-07,   4.97661566e-01,\n",
       "          4.90526928e-01,   3.78320105e-02,   5.42622127e-02,\n",
       "          3.05795618e-05]])"
      ]
     },
     "execution_count": 27,
     "metadata": {},
     "output_type": "execute_result"
    }
   ],
   "source": [
    "L"
   ]
  },
  {
   "cell_type": "markdown",
   "metadata": {
    "deletable": true,
    "editable": true,
    "slideshow": {
     "slide_type": "subslide"
    }
   },
   "source": [
    "# Backpropogation"
   ]
  },
  {
   "cell_type": "markdown",
   "metadata": {
    "deletable": true,
    "editable": true,
    "slideshow": {
     "slide_type": "fragment"
    }
   },
   "source": [
    "We have made our prediction and computed our loss, $L$. Now what?"
   ]
  },
  {
   "cell_type": "markdown",
   "metadata": {
    "deletable": true,
    "editable": true,
    "slideshow": {
     "slide_type": "fragment"
    }
   },
   "source": [
    "Recall: each \"step\" is just a function applied to some input that results in some output."
   ]
  },
  {
   "cell_type": "markdown",
   "metadata": {
    "deletable": true,
    "editable": true,
    "slideshow": {
     "slide_type": "fragment"
    }
   },
   "source": [
    "So, say we have a neural net with just one hidden layer. If the loss of a neural net on a given observation $ X $ is: \n",
    "\n",
    "$$ L = L(D(C(B(A(X, V)), W))) $$\n",
    "\n",
    "we can use the chain rule the explicitly compute the loss with respect to each of the individual weights:"
   ]
  },
  {
   "cell_type": "markdown",
   "metadata": {
    "deletable": true,
    "editable": true,
    "slideshow": {
     "slide_type": "subslide"
    }
   },
   "source": [
    "## The answer - possible to everything"
   ]
  },
  {
   "cell_type": "markdown",
   "metadata": {
    "deletable": true,
    "editable": true,
    "slideshow": {
     "slide_type": "fragment"
    }
   },
   "source": [
    "The answer: we _want_ to change the weights in such a way that the loss will be reduced during the next iteration \n",
    "\n",
    "$$ W = W - \\frac{\\partial L}{\\partial W}$$\n",
    "\n",
    "$$ V = V - \\frac{\\partial L}{\\partial V}$$"
   ]
  },
  {
   "cell_type": "markdown",
   "metadata": {
    "deletable": true,
    "editable": true,
    "slideshow": {
     "slide_type": "subslide"
    }
   },
   "source": [
    "We'll compute these partial derivatives, of $L$ with respect to $V$ and $W$, using the chain rule, using the fact that:\n",
    "\n",
    "$$ \\frac{\\partial L}{\\partial V} = \\frac{\\partial A}{\\partial V} * \\frac{\\partial B}{\\partial A} * \\frac{\\partial C}{\\partial B} * \\frac{\\partial P}{\\partial C} * \\frac{\\partial L}{\\partial P} $$\n",
    "\n",
    "$$ \\frac{\\partial L}{\\partial W} = \\frac{\\partial C}{\\partial W} * \\frac{\\partial P}{\\partial C} * \\frac{\\partial L}{\\partial P} $$\n",
    "\n",
    "_Note:_ These are matrix multiplications.\n",
    "\n",
    "The incredible thing is that **_this will work because of the chain rule_**!"
   ]
  },
  {
   "cell_type": "markdown",
   "metadata": {
    "deletable": true,
    "editable": true,
    "slideshow": {
     "slide_type": "subslide"
    }
   },
   "source": [
    "\n",
    "## Neural net, step by step"
   ]
  },
  {
   "cell_type": "markdown",
   "metadata": {
    "deletable": true,
    "editable": true,
    "slideshow": {
     "slide_type": "fragment"
    }
   },
   "source": [
    "**Step 6: Backpropogate, step 1:**"
   ]
  },
  {
   "cell_type": "markdown",
   "metadata": {
    "deletable": true,
    "editable": true
   },
   "source": [
    "$$ \\frac{\\partial L}{\\partial P} = -1.0 * (y - P) $$"
   ]
  },
  {
   "cell_type": "code",
   "execution_count": 28,
   "metadata": {
    "collapsed": false,
    "deletable": true,
    "editable": true,
    "slideshow": {
     "slide_type": "fragment"
    }
   },
   "outputs": [
    {
     "data": {
      "text/plain": [
       "array([[ 0.00440274,  0.2565051 ,  0.9953749 ,  0.38377621,  0.00133048,\n",
       "         0.99765883,  0.99048163, -0.27507094,  0.32943046,  0.00782043]])"
      ]
     },
     "execution_count": 28,
     "metadata": {},
     "output_type": "execute_result"
    }
   ],
   "source": [
    "dLdP = -1.0 * (y-P)\n",
    "dLdP"
   ]
  },
  {
   "cell_type": "markdown",
   "metadata": {
    "deletable": true,
    "editable": true,
    "slideshow": {
     "slide_type": "subslide"
    }
   },
   "source": [
    "## Neural net, step by step"
   ]
  },
  {
   "cell_type": "markdown",
   "metadata": {
    "deletable": true,
    "editable": true,
    "slideshow": {
     "slide_type": "fragment"
    }
   },
   "source": [
    "**Step 7: Backpropogate, step 2:**"
   ]
  },
  {
   "cell_type": "markdown",
   "metadata": {
    "deletable": true,
    "editable": true,
    "slideshow": {
     "slide_type": "subslide"
    }
   },
   "source": [
    "**Digression on the sigmoid function:**\n",
    "\n",
    "If\n",
    "\n",
    "$$\\sigma(x) = \\frac{1}{1 + e^{-x}}$$\n",
    "\n",
    "Then \n",
    "\n",
    "$$\\sigma'(x) = \\sigma(x) * (1 - \\sigma(x))$$"
   ]
  },
  {
   "cell_type": "markdown",
   "metadata": {
    "deletable": true,
    "editable": true,
    "slideshow": {
     "slide_type": "subslide"
    }
   },
   "source": [
    "## Neural net, step by step"
   ]
  },
  {
   "cell_type": "markdown",
   "metadata": {
    "deletable": true,
    "editable": true,
    "slideshow": {
     "slide_type": "fragment"
    }
   },
   "source": [
    "So, since:\n",
    "\n",
    "$$ P = \\sigma(C) $$\n",
    "\n",
    "that means:\n",
    "\n",
    "$$ \\frac{\\partial P}{\\partial C} = \\sigma(C) * (1 - \\sigma(C)) $$"
   ]
  },
  {
   "cell_type": "markdown",
   "metadata": {
    "deletable": true,
    "editable": true,
    "slideshow": {
     "slide_type": "subslide"
    }
   },
   "source": [
    "## Neural net, step by step"
   ]
  },
  {
   "cell_type": "markdown",
   "metadata": {
    "deletable": true,
    "editable": true,
    "slideshow": {
     "slide_type": "fragment"
    }
   },
   "source": [
    "And by the chain rule (we'll use this over and over again):"
   ]
  },
  {
   "cell_type": "markdown",
   "metadata": {
    "deletable": true,
    "editable": true,
    "slideshow": {
     "slide_type": "fragment"
    }
   },
   "source": [
    "$$ \\frac{\\partial L}{\\partial C} = \\frac{\\partial L}{\\partial P} * \\frac{\\partial P}{\\partial C} $$\n",
    "$$ \\frac{\\partial L}{\\partial C} =  -1.0 * (y-P) * \\sigma(C) * (1 - \\sigma(C)) $$"
   ]
  },
  {
   "cell_type": "code",
   "execution_count": 29,
   "metadata": {
    "collapsed": false,
    "deletable": true,
    "editable": true,
    "slideshow": {
     "slide_type": "subslide"
    }
   },
   "outputs": [
    {
     "data": {
      "text/plain": [
       "array([[  1.92988022e-05,   4.89181484e-02,   4.58241750e-03,\n",
       "          9.07600151e-02,   1.76780902e-06,   2.33022559e-03,\n",
       "          9.33803520e-03,  -5.48510478e-02,   7.27731744e-02,\n",
       "          6.06808330e-05]])"
      ]
     },
     "execution_count": 29,
     "metadata": {},
     "output_type": "execute_result"
    }
   ],
   "source": [
    "dPdC = _sigmoid(C) * (1-_sigmoid(C))\n",
    "dLdC = dLdP * dPdC\n",
    "dLdC"
   ]
  },
  {
   "cell_type": "code",
   "execution_count": 30,
   "metadata": {
    "collapsed": false,
    "deletable": true,
    "editable": true,
    "slideshow": {
     "slide_type": "fragment"
    }
   },
   "outputs": [
    {
     "data": {
      "image/png": "[encoded data removed]",
      "text/plain": [
       "<matplotlib.figure.Figure at 0x11cf9a588>"
      ]
     },
     "metadata": {},
     "output_type": "display_data"
    }
   ],
   "source": [
    "plt.hist(dLdC[0]);"
   ]
  },
  {
   "cell_type": "markdown",
   "metadata": {
    "deletable": true,
    "editable": true,
    "slideshow": {
     "slide_type": "subslide"
    }
   },
   "source": [
    "## Neural net, step by step"
   ]
  },
  {
   "cell_type": "markdown",
   "metadata": {
    "deletable": true,
    "editable": true,
    "slideshow": {
     "slide_type": "fragment"
    }
   },
   "source": [
    "**Step 8: Backpropogate, step 3:**"
   ]
  },
  {
   "cell_type": "markdown",
   "metadata": {
    "deletable": true,
    "editable": true,
    "slideshow": {
     "slide_type": "fragment"
    }
   },
   "source": [
    "Recall that, in our simple example with only four neurons in the hidden layer:\n",
    "\n",
    "$$ c_1 = w_{11} * b_1 + w_{21} * b_2 + w_{31} * b_3 + w_{41} * b_4 $$\n",
    "\n",
    "This can also be written as:\n",
    "\n",
    "$$ \\begin{bmatrix}b_1 &&\n",
    "                  b_2 &&\n",
    "                  b_3 &&\n",
    "                  b_4\\end{bmatrix} * \\begin{bmatrix}w_{11} \\\\\n",
    "                  w_{21} \\\\\n",
    "                  w_{31} \\\\\n",
    "                  w_{41}\n",
    "                  \\end{bmatrix} $$"
   ]
  },
  {
   "cell_type": "markdown",
   "metadata": {
    "deletable": true,
    "editable": true,
    "slideshow": {
     "slide_type": "subslide"
    }
   },
   "source": [
    "## Neural net, step by step"
   ]
  },
  {
   "cell_type": "markdown",
   "metadata": {
    "deletable": true,
    "editable": true,
    "slideshow": {
     "slide_type": "fragment"
    }
   },
   "source": [
    "Now recall that by \n",
    "\n",
    "$$ \\frac{\\partial C}{\\partial W} $$\n",
    "\n",
    "we mean:\n",
    "\n",
    "$$ \\begin{bmatrix}\\frac{\\partial C}{\\partial w_{11}} \\\\\n",
    "                  \\frac{\\partial C}{\\partial w_{21}} \\\\\n",
    "                  \\frac{\\partial C}{\\partial w_{31}} \\\\\n",
    "                  \\frac{\\partial C}{\\partial w_{41}}\n",
    "                  \\end{bmatrix} $$"
   ]
  },
  {
   "cell_type": "markdown",
   "metadata": {
    "deletable": true,
    "editable": true,
    "slideshow": {
     "slide_type": "subslide"
    }
   },
   "source": [
    "## Neural net, step by step"
   ]
  },
  {
   "cell_type": "markdown",
   "metadata": {
    "deletable": true,
    "editable": true,
    "slideshow": {
     "slide_type": "fragment"
    }
   },
   "source": [
    "But, looking at the formula for $C$, this is just \n",
    "\n",
    "$$ \\begin{bmatrix}b_1 \\\\\n",
    "                  b_2 \\\\\n",
    "                  b_3 \\\\\n",
    "                  b_4\n",
    "                  \\end{bmatrix} $$\n",
    "                  \n",
    "or $B^T$. "
   ]
  },
  {
   "cell_type": "markdown",
   "metadata": {
    "deletable": true,
    "editable": true,
    "slideshow": {
     "slide_type": "subslide"
    }
   },
   "source": [
    "Finally, then, we arrive at the elegant formula for the backpropogation at this stage:\n",
    "\n",
    "$$ \\frac{\\partial C}{\\partial W} = B^T$$\n",
    "\n",
    "Similarly, we can show that:\n",
    "\n",
    "$$ \\frac{\\partial C}{\\partial B} = W^T$$"
   ]
  },
  {
   "cell_type": "markdown",
   "metadata": {
    "deletable": true,
    "editable": true,
    "slideshow": {
     "slide_type": "subslide"
    }
   },
   "source": [
    "## Neural net, step by step"
   ]
  },
  {
   "cell_type": "markdown",
   "metadata": {
    "deletable": true,
    "editable": true,
    "slideshow": {
     "slide_type": "fragment"
    }
   },
   "source": [
    "Looking at the weight updates themselves, we can see that most of them are quite small:"
   ]
  },
  {
   "cell_type": "code",
   "execution_count": 31,
   "metadata": {
    "collapsed": true,
    "deletable": true,
    "editable": true,
    "slideshow": {
     "slide_type": "fragment"
    }
   },
   "outputs": [],
   "source": [
    "def hist_weight_update(update):\n",
    "    plt.hist(update.reshape(update.shape[0] * update.shape[1]));"
   ]
  },
  {
   "cell_type": "code",
   "execution_count": 33,
   "metadata": {
    "collapsed": false,
    "deletable": true,
    "editable": true,
    "slideshow": {
     "slide_type": "fragment"
    }
   },
   "outputs": [
    {
     "data": {
      "image/png": "[encoded data removed]",
      "text/plain": [
       "<matplotlib.figure.Figure at 0x11d2280f0>"
      ]
     },
     "metadata": {},
     "output_type": "display_data"
    }
   ],
   "source": [
    "dCdW = B.T\n",
    "dLdW = np.dot(dCdW, dLdC)\n",
    "plt.hist(dLdW.reshape(W.shape[0] * W.shape[1]));"
   ]
  },
  {
   "cell_type": "markdown",
   "metadata": {
    "deletable": true,
    "editable": true,
    "slideshow": {
     "slide_type": "subslide"
    }
   },
   "source": [
    "## Neural net, step by step"
   ]
  },
  {
   "cell_type": "markdown",
   "metadata": {
    "deletable": true,
    "editable": true,
    "slideshow": {
     "slide_type": "fragment"
    }
   },
   "source": [
    "**Step 9: Backpropogate, step 4:**"
   ]
  },
  {
   "cell_type": "markdown",
   "metadata": {
    "deletable": true,
    "editable": true,
    "slideshow": {
     "slide_type": "fragment"
    }
   },
   "source": [
    "Again, because:\n",
    "\n",
    "$$ \\frac{\\partial C}{\\partial B} = W^T $$"
   ]
  },
  {
   "cell_type": "code",
   "execution_count": 35,
   "metadata": {
    "collapsed": false,
    "deletable": true,
    "editable": true,
    "slideshow": {
     "slide_type": "fragment"
    }
   },
   "outputs": [
    {
     "data": {
      "image/png": "[encoded data removed]",
      "text/plain": [
       "<matplotlib.figure.Figure at 0x11d0a20b8>"
      ]
     },
     "metadata": {},
     "output_type": "display_data"
    }
   ],
   "source": [
    "dCdB = W.T\n",
    "dLdB = np.dot(dLdC, dCdB)\n",
    "plt.hist(dLdB[0]);"
   ]
  },
  {
   "cell_type": "markdown",
   "metadata": {
    "deletable": true,
    "editable": true,
    "slideshow": {
     "slide_type": "subslide"
    }
   },
   "source": [
    "## Neural net, step by step"
   ]
  },
  {
   "cell_type": "markdown",
   "metadata": {
    "deletable": true,
    "editable": true,
    "slideshow": {
     "slide_type": "fragment"
    }
   },
   "source": [
    "**Step 10: backpropogate, step 5:**"
   ]
  },
  {
   "cell_type": "markdown",
   "metadata": {
    "deletable": true,
    "editable": true,
    "slideshow": {
     "slide_type": "fragment"
    }
   },
   "source": [
    "As before, since:\n",
    "\n",
    "$$ B = \\sigma(A) $$"
   ]
  },
  {
   "cell_type": "markdown",
   "metadata": {
    "deletable": true,
    "editable": true,
    "slideshow": {
     "slide_type": "fragment"
    }
   },
   "source": [
    "This means:\n",
    "\n",
    "$$ \\frac{\\partial B}{\\partial A} = \\sigma(A) * (1 - \\sigma(A)) $$"
   ]
  },
  {
   "cell_type": "code",
   "execution_count": 36,
   "metadata": {
    "collapsed": false,
    "deletable": true,
    "editable": true,
    "slideshow": {
     "slide_type": "fragment"
    }
   },
   "outputs": [
    {
     "data": {
      "image/png": "[encoded data removed]",
      "text/plain": [
       "<matplotlib.figure.Figure at 0x11cebe128>"
      ]
     },
     "metadata": {},
     "output_type": "display_data"
    }
   ],
   "source": [
    "dBdA = _sigmoid(A) * (1-_sigmoid(A))\n",
    "dLdA = dLdB * dBdA\n",
    "plt.hist(dLdA[0]);"
   ]
  },
  {
   "cell_type": "markdown",
   "metadata": {
    "deletable": true,
    "editable": true,
    "slideshow": {
     "slide_type": "subslide"
    }
   },
   "source": [
    "## Neural net, step by step"
   ]
  },
  {
   "cell_type": "markdown",
   "metadata": {
    "deletable": true,
    "editable": true,
    "slideshow": {
     "slide_type": "fragment"
    }
   },
   "source": [
    "**Step 11: backpropogate, step 6:**"
   ]
  },
  {
   "cell_type": "markdown",
   "metadata": {
    "deletable": true,
    "editable": true,
    "slideshow": {
     "slide_type": "fragment"
    }
   },
   "source": [
    "Now, recall that before, in our three input feature-four hidden feature example,"
   ]
  },
  {
   "cell_type": "markdown",
   "metadata": {
    "deletable": true,
    "editable": true,
    "slideshow": {
     "slide_type": "fragment"
    }
   },
   "source": [
    "And we would actually do the transformation as follows:\n",
    "\n",
    "$$ x_1 * v_{11} + x_2 * v_{21} + x_3 * v_{31} = a_1 $$\n",
    "$$ x_1 * v_{12} + x_2 * v_{22} + x_3 * v_{32} = a_2 $$\n",
    "$$ x_1 * v_{13} + x_2 * v_{23} + x_3 * v_{33} = a_3 $$\n",
    "$$ x_1 * v_{14} + x_2 * v_{24} + x_3 * v_{34} = a_4 $$"
   ]
  },
  {
   "cell_type": "markdown",
   "metadata": {
    "deletable": true,
    "editable": true,
    "slideshow": {
     "slide_type": "subslide"
    }
   },
   "source": [
    "## Neural net, step by step"
   ]
  },
  {
   "cell_type": "markdown",
   "metadata": {
    "deletable": true,
    "editable": true,
    "slideshow": {
     "slide_type": "fragment"
    }
   },
   "source": [
    "So, we must calculate:\n",
    "\n",
    "$$ \\frac{\\partial A}{\\partial V} $$\n",
    "\n",
    "which is really just syntax for:\n",
    "\n",
    "$$ \\begin{bmatrix}\\frac{\\partial A}{\\partial v_{11}} & \\frac{\\partial A}{\\partial v_{12}} & \\frac{\\partial A}{\\partial v_{13}} & \\frac{\\partial A}{\\partial v_{14}} \\\\\n",
    "\\frac{\\partial A}{\\partial v_{21}} & \\frac{\\partial A}{\\partial v_{22}} & \\frac{\\partial A}{\\partial v_{23}} & \\frac{\\partial A}{\\partial v_{24}} \\\\\n",
    "\\frac{\\partial A}{\\partial v_{31}} & \\frac{\\partial A}{\\partial v_{32}} & \\frac{\\partial A}{\\partial v_{33}} & \\frac{\\partial A}{\\partial v_{34}} \\\\\n",
    "\\end{bmatrix} $$"
   ]
  },
  {
   "cell_type": "markdown",
   "metadata": {
    "deletable": true,
    "editable": true,
    "slideshow": {
     "slide_type": "fragment"
    }
   },
   "source": [
    "But, note that focusing on just $a_1$ for example:"
   ]
  },
  {
   "cell_type": "markdown",
   "metadata": {
    "deletable": true,
    "editable": true,
    "slideshow": {
     "slide_type": "subslide"
    }
   },
   "source": [
    "## Neural net, step by step"
   ]
  },
  {
   "cell_type": "markdown",
   "metadata": {
    "deletable": true,
    "editable": true,
    "slideshow": {
     "slide_type": "fragment"
    }
   },
   "source": [
    "$$ \\frac{\\partial a_1}{\\partial v_{11}} = x_1 $$\n",
    "$$ \\frac{\\partial a_1}{\\partial v_{21}} = x_2 $$\n",
    "$$ \\frac{\\partial a_1}{\\partial v_{31}} = x_3 $$"
   ]
  },
  {
   "cell_type": "markdown",
   "metadata": {
    "deletable": true,
    "editable": true,
    "slideshow": {
     "slide_type": "fragment"
    }
   },
   "source": [
    "whereas for $a_2$ and $a_3$\n",
    "\n",
    "$$ \\frac{\\partial a_2}{\\partial v_{11}} = 0 $$\n",
    "$$ \\frac{\\partial a_3}{\\partial v_{11}} = 0 $$\n"
   ]
  },
  {
   "cell_type": "markdown",
   "metadata": {
    "deletable": true,
    "editable": true,
    "slideshow": {
     "slide_type": "subslide"
    }
   },
   "source": [
    "## Neural net, step by step"
   ]
  },
  {
   "cell_type": "markdown",
   "metadata": {
    "deletable": true,
    "editable": true,
    "slideshow": {
     "slide_type": "fragment"
    }
   },
   "source": [
    "So if we write: \n",
    "    \n",
    "$$ A = \\begin{bmatrix}a_1 \\\\ a_2 \\\\ a_3 \\\\ a_4 \\end{bmatrix} $$"
   ]
  },
  {
   "cell_type": "markdown",
   "metadata": {
    "deletable": true,
    "editable": true,
    "slideshow": {
     "slide_type": "subslide"
    }
   },
   "source": [
    "Then:\n",
    "\n",
    "$$ \\frac{\\partial A}{\\partial V} = \\begin{bmatrix}\n",
    "   \\begin{bmatrix} x_1 \\\\ x_2 \\\\ x_3 \\end{bmatrix} &\n",
    "   \\begin{bmatrix} x_1 \\\\ x_2 \\\\ x_3 \\end{bmatrix} &\n",
    "   \\begin{bmatrix} x_1 \\\\ x_2 \\\\ x_3 \\end{bmatrix} &\n",
    "   \\begin{bmatrix} x_1 \\\\ x_2 \\\\ x_3 \\end{bmatrix}\\end{bmatrix} $$"
   ]
  },
  {
   "cell_type": "markdown",
   "metadata": {
    "deletable": true,
    "editable": true,
    "slideshow": {
     "slide_type": "fragment"
    }
   },
   "source": [
    "Which in terms of the matrix multiplication that results is the same as writing just:"
   ]
  },
  {
   "cell_type": "markdown",
   "metadata": {
    "deletable": true,
    "editable": true,
    "slideshow": {
     "slide_type": "fragment"
    }
   },
   "source": [
    "$$ \\frac{\\partial A}{\\partial V} = X^T $$"
   ]
  },
  {
   "cell_type": "markdown",
   "metadata": {
    "deletable": true,
    "editable": true,
    "slideshow": {
     "slide_type": "subslide"
    }
   },
   "source": [
    "## Neural net, step by step"
   ]
  },
  {
   "cell_type": "code",
   "execution_count": 37,
   "metadata": {
    "collapsed": false,
    "deletable": true,
    "editable": true,
    "slideshow": {
     "slide_type": "fragment"
    }
   },
   "outputs": [
    {
     "data": {
      "text/plain": [
       "(784, 50)"
      ]
     },
     "execution_count": 37,
     "metadata": {},
     "output_type": "execute_result"
    }
   ],
   "source": [
    "dAdV = x.T\n",
    "dLdV = np.dot(dAdV, dLdA)\n",
    "dLdV.shape"
   ]
  },
  {
   "cell_type": "code",
   "execution_count": 38,
   "metadata": {
    "collapsed": false,
    "deletable": true,
    "editable": true,
    "slideshow": {
     "slide_type": "fragment"
    }
   },
   "outputs": [
    {
     "data": {
      "image/png": "[encoded data removed]",
      "text/plain": [
       "<matplotlib.figure.Figure at 0x11cecfeb8>"
      ]
     },
     "metadata": {},
     "output_type": "display_data"
    }
   ],
   "source": [
    "hist_weight_update(dLdV);"
   ]
  },
  {
   "cell_type": "markdown",
   "metadata": {
    "deletable": true,
    "editable": true,
    "slideshow": {
     "slide_type": "subslide"
    }
   },
   "source": [
    "## Neural net, step by step"
   ]
  },
  {
   "cell_type": "markdown",
   "metadata": {
    "deletable": true,
    "editable": true,
    "slideshow": {
     "slide_type": "fragment"
    }
   },
   "source": [
    "**Step 12: Update the weights:**"
   ]
  },
  {
   "cell_type": "markdown",
   "metadata": {
    "deletable": true,
    "editable": true,
    "slideshow": {
     "slide_type": "fragment"
    }
   },
   "source": [
    "Now, the following \"works\" because of the chain rule:"
   ]
  },
  {
   "cell_type": "markdown",
   "metadata": {
    "deletable": true,
    "editable": true,
    "slideshow": {
     "slide_type": "fragment"
    }
   },
   "source": [
    "$$ \\frac{\\partial L}{\\partial W} = \\frac{\\partial L}{\\partial P} * \n",
    "\\frac{\\partial P}{\\partial C} *\n",
    "\\frac{\\partial C}{\\partial W}$$"
   ]
  },
  {
   "cell_type": "markdown",
   "metadata": {
    "deletable": true,
    "editable": true,
    "slideshow": {
     "slide_type": "fragment"
    }
   },
   "source": [
    "$$ \\frac{\\partial L}{\\partial V} = \\frac{\\partial L}{\\partial P} * \n",
    "\\frac{\\partial P}{\\partial C} *\n",
    "\\frac{\\partial C}{\\partial B} * \n",
    "\\frac{\\partial B}{\\partial A} * \n",
    "\\frac{\\partial A}{\\partial W} $$"
   ]
  },
  {
   "cell_type": "markdown",
   "metadata": {
    "deletable": true,
    "editable": true,
    "slideshow": {
     "slide_type": "subslide"
    }
   },
   "source": [
    "## Neural net, step by step"
   ]
  },
  {
   "cell_type": "markdown",
   "metadata": {
    "deletable": true,
    "editable": true
   },
   "source": [
    "Finally, we update the weights!"
   ]
  },
  {
   "cell_type": "markdown",
   "metadata": {
    "deletable": true,
    "editable": true
   },
   "source": [
    "$$ W = W - \\frac{\\partial L}{\\partial W} $$\n",
    "\n",
    "$$ V = V - \\frac{\\partial L}{\\partial V} $$"
   ]
  },
  {
   "cell_type": "code",
   "execution_count": 39,
   "metadata": {
    "collapsed": true,
    "deletable": true,
    "editable": true,
    "slideshow": {
     "slide_type": "fragment"
    }
   },
   "outputs": [],
   "source": [
    "W -= dLdW\n",
    "V -= dLdV"
   ]
  },
  {
   "cell_type": "markdown",
   "metadata": {
    "deletable": true,
    "editable": true,
    "slideshow": {
     "slide_type": "subslide"
    }
   },
   "source": [
    "# Training the net for one epoch:"
   ]
  },
  {
   "cell_type": "code",
   "execution_count": 40,
   "metadata": {
    "collapsed": true,
    "deletable": true,
    "editable": true,
    "slideshow": {
     "slide_type": "fragment"
    }
   },
   "outputs": [],
   "source": [
    "# Randomly shuffle the indices of the points in the training set:\n",
    "np.random.seed(2)\n",
    "train_size = X_train.shape[0]\n",
    "indices = list(range(train_size))\n",
    "np.random.shuffle(indices)"
   ]
  },
  {
   "cell_type": "code",
   "execution_count": 41,
   "metadata": {
    "collapsed": true,
    "deletable": true,
    "editable": true,
    "slideshow": {
     "slide_type": "fragment"
    }
   },
   "outputs": [],
   "source": [
    "def learn(X, Y, start_index, num_iter, V=None, W=None, num_epoch=1):\n",
    "    np.random.seed(3)\n",
    "    if V is None:\n",
    "        V = np.random.randn(784, 50)\n",
    "    if W is None:\n",
    "        W = np.random.randn(50, 10)\n",
    "    for j in range(start_index, start_index + num_iter):\n",
    "        i = indices[j]\n",
    "        x = np.array(X[i], ndmin=2)\n",
    "        y = np.array(Y[i], ndmin=2)\n",
    "        A = np.dot(x,V)\n",
    "        B = _sigmoid(A)\n",
    "        C = np.dot(B,W)\n",
    "        P = _sigmoid(C)\n",
    "        L = 0.5 * (y - P) ** 2\n",
    "        dLdP = -1.0 * (y - P)\n",
    "        dPdC = _sigmoid(C) * (1-_sigmoid(C))\n",
    "        dLdC = dLdP * dPdC\n",
    "        dCdW = B.T\n",
    "        dLdW = np.dot(dCdW, dLdC)\n",
    "        dCdB = W.T\n",
    "        dLdB = np.dot(dLdC, dCdB)\n",
    "        dBdA = _sigmoid(A) * (1-_sigmoid(A))\n",
    "        dLdA = dLdB * dBdA\n",
    "        dAdV = x.T\n",
    "        dLdV = np.dot(dAdV, dLdA)\n",
    "        W -= dLdW\n",
    "        V -= dLdV\n",
    "    return V, W"
   ]
  },
  {
   "cell_type": "markdown",
   "metadata": {
    "deletable": true,
    "editable": true,
    "slideshow": {
     "slide_type": "subslide"
    }
   },
   "source": [
    "## Training the net for one epoch:"
   ]
  },
  {
   "cell_type": "code",
   "execution_count": 42,
   "metadata": {
    "collapsed": true,
    "deletable": true,
    "editable": true,
    "slideshow": {
     "slide_type": "fragment"
    }
   },
   "outputs": [],
   "source": [
    "def predict(X, V, W):\n",
    "    A = np.dot(X,V)\n",
    "    B = _sigmoid(A)\n",
    "    C = np.dot(B,W)\n",
    "    P = _sigmoid(C)\n",
    "    return P"
   ]
  },
  {
   "cell_type": "code",
   "execution_count": 43,
   "metadata": {
    "collapsed": true,
    "deletable": true,
    "editable": true,
    "slideshow": {
     "slide_type": "fragment"
    }
   },
   "outputs": [],
   "source": [
    "def accuracy(P, Y_test, loss=False):\n",
    "    preds = [np.argmax(x) for x in P]\n",
    "    actuals = [np.argmax(x) for x in Y_test]\n",
    "    \n",
    "    accuracy = sum(np.array(preds) == np.array(actuals)) * 1.0 / len(preds)\n",
    "\n",
    "    if loss:\n",
    "        loss_vector = [prob - obs for prob, obs in zip(P, Y_test)]\n",
    "        squared_loss = [x ** 2 for x in loss_vector]\n",
    "        total_loss = np.mean([np.sum(x) for x in squared_loss])\n",
    "        return accuracy, total_loss\n",
    "\n",
    "    return accuracy"
   ]
  },
  {
   "cell_type": "markdown",
   "metadata": {
    "deletable": true,
    "editable": true,
    "slideshow": {
     "slide_type": "subslide"
    }
   },
   "source": [
    "## Turning this into a function:"
   ]
  },
  {
   "cell_type": "code",
   "execution_count": 44,
   "metadata": {
    "collapsed": false,
    "deletable": true,
    "editable": true,
    "slideshow": {
     "slide_type": "fragment"
    }
   },
   "outputs": [
    {
     "name": "stdout",
     "output_type": "stream",
     "text": [
      "Loss after 1000 iterations is 0.787\n",
      "Loss after 11000 iterations is 0.259\n",
      "Loss after 21000 iterations is 0.197\n",
      "Loss after 31000 iterations is 0.174\n",
      "Loss after 41000 iterations is 0.172\n",
      "Loss after 51000 iterations is 0.153\n",
      "Loss after 61000 iterations is 0.137\n"
     ]
    }
   ],
   "source": [
    "df_data = pd.DataFrame(index=[0], columns=['iterations', \n",
    "                                           'test_accuracy',\n",
    "                                           'train_accuracy', \n",
    "                                           'test_loss'])\n",
    "train_size = X_train.shape[0]\n",
    "num_iter=1000\n",
    "num_iter_total = 0\n",
    "for i in range(int(train_size / num_iter)):\n",
    "    if i == 0:\n",
    "        V, W = learn(X_train, Y_train, num_iter_total, num_iter, V=None, W=None)\n",
    "    else:\n",
    "        V, W = learn(X_train, Y_train, num_iter_total, num_iter, V=V, W=W)\n",
    "        \n",
    "    P_test = predict(X_test, V, W)\n",
    "    P_train = predict(X_train, V, W)\n",
    "    test_accuracy, test_loss = accuracy(P_test, Y_test, loss=True)\n",
    "    if (num_iter_total - num_iter) % 10000 == 0:\n",
    "        print(\"Loss after\", num_iter_total, \n",
    "              \"iterations is\", np.round(test_loss, 3))\n",
    "    train_accuracy = accuracy(P_train, Y_train)\n",
    "    num_iter_total += num_iter\n",
    "    df_data.loc[i, :] = [num_iter_total,\n",
    "                         test_accuracy,\n",
    "                         train_accuracy, \n",
    "                         test_loss]    "
   ]
  },
  {
   "cell_type": "code",
   "execution_count": 50,
   "metadata": {
    "collapsed": false,
    "deletable": true,
    "editable": true
   },
   "outputs": [
    {
     "data": {
      "text/plain": [
       "array([[ -7.18761075e-01,   1.19024301e+00,  -8.15048556e-01,\n",
       "          4.14556658e-01,   2.48226954e+00,  -1.51820309e+00,\n",
       "          3.65598413e-01,  -6.72476416e-01,   2.51923172e-01,\n",
       "         -3.49922587e+00],\n",
       "       [ -4.85761242e-01,   4.46685745e-01,  -1.47967103e+00,\n",
       "         -1.42727480e+00,  -2.75572731e-01,   7.38395432e-01,\n",
       "          2.64547049e+00,  -5.98152830e-01,   7.23225775e-01,\n",
       "          1.01407038e+00],\n",
       "       [  1.98694422e+00,  -1.65559611e+00,  -7.40598649e-01,\n",
       "          3.15447258e-01,  -2.22354742e+00,  -6.47585823e-01,\n",
       "         -2.19235496e+00,   2.64783467e+00,  -3.75230747e+00,\n",
       "         -7.50152163e-01],\n",
       "       [ -2.31096802e+00,  -1.61609469e+00,  -1.20768255e+00,\n",
       "         -6.95650501e-01,  -2.19826461e+00,   1.79890777e+00,\n",
       "          2.04186884e+00,  -7.61651936e-01,  -3.60414837e-01,\n",
       "          2.77235807e-01],\n",
       "       [ -1.13103059e+00,   8.54020801e-01,  -1.18097147e+00,\n",
       "         -1.46526676e+00,   4.09547763e-01,   4.13270102e-01,\n",
       "         -6.55398295e-01,   9.71494526e-01,   5.82727480e-01,\n",
       "          6.05636436e-01],\n",
       "       [ -3.03162739e+00,   3.06929943e+00,  -2.06398472e-01,\n",
       "         -1.52605418e+00,   4.77977131e-01,  -3.44502806e+00,\n",
       "          1.52580272e+00,  -7.39939670e-01,  -2.46111140e+00,\n",
       "          1.64675378e-01],\n",
       "       [  1.90246368e-01,   1.25351050e+00,  -7.93211184e-01,\n",
       "          1.39985021e+00,   9.81239544e-01,  -1.30857084e+00,\n",
       "         -1.59783439e+00,  -4.41226511e-01,  -1.19020973e+00,\n",
       "         -1.78508604e+00],\n",
       "       [ -2.96362955e+00,  -2.28092263e+00,  -6.00202864e-01,\n",
       "         -1.76133389e+00,   3.20074612e+00,  -1.76612051e+00,\n",
       "         -2.68717030e+00,   3.25008782e+00,  -3.78462979e+00,\n",
       "          2.52327921e+00],\n",
       "       [ -2.94382196e+00,  -1.42895890e+00,  -2.23316316e+00,\n",
       "         -1.22425421e+00,  -1.40459410e-01,  -4.32392989e-01,\n",
       "         -9.19691140e-01,  -3.41716506e+00,   2.27491540e-01,\n",
       "         -2.45944905e+00],\n",
       "       [ -1.98334934e+00,   5.52364003e-01,  -1.09044546e+00,\n",
       "         -1.44206070e+00,   1.02475167e+00,   1.01767619e+00,\n",
       "         -3.10704328e-02,  -1.91491034e-01,  -7.81229033e-01,\n",
       "          1.44823211e+00],\n",
       "       [  6.25871777e-01,   5.27735062e-01,   2.01400984e-01,\n",
       "          8.59463836e-02,  -1.69908361e+00,   9.19697685e-01,\n",
       "          1.56943919e+00,   5.94597217e-01,   1.12014016e+00,\n",
       "          5.80397580e-01],\n",
       "       [ -3.28815208e-01,   2.42824336e+00,  -1.92669989e+00,\n",
       "         -3.76267031e+00,  -1.03961024e+00,   7.11925867e-01,\n",
       "         -6.21060465e-02,   1.85639043e+00,  -2.94948831e+00,\n",
       "         -3.77080402e-01],\n",
       "       [ -1.88303694e+00,   7.40908633e-01,  -3.29520084e+00,\n",
       "          2.79731935e+00,   1.04411363e+00,  -1.87865405e+00,\n",
       "          1.62116227e-02,   1.64079700e-01,  -2.81605490e-01,\n",
       "         -9.36825172e-01],\n",
       "       [  3.29914409e+00,  -2.47730489e+00,   1.57837146e-01,\n",
       "         -2.07715335e+00,  -6.38496921e-01,  -3.86270591e+00,\n",
       "          1.65339324e+00,   6.58636997e-01,  -1.30453102e+00,\n",
       "         -3.10255176e-01],\n",
       "       [  4.87702107e-01,  -2.58319193e+00,  -7.95624151e-01,\n",
       "         -8.55526237e-01,  -3.90660007e-01,   3.44726832e+00,\n",
       "         -9.79311420e-01,   2.00658500e+00,  -2.66134316e+00,\n",
       "         -4.53121336e+00],\n",
       "       [  2.07310441e-01,  -1.33524031e-01,   3.60193687e+00,\n",
       "         -4.41218056e+00,  -2.76646681e-03,  -1.27430429e+00,\n",
       "          1.59600273e+00,  -2.93762841e+00,  -3.01319201e+00,\n",
       "          3.78507385e-01],\n",
       "       [ -1.82956072e-01,  -2.65335479e+00,  -8.95480540e-01,\n",
       "         -2.10928999e+00,   4.31105685e-01,   1.41854591e+00,\n",
       "          1.42399567e+00,   7.06846123e-01,   1.31777678e-02,\n",
       "          1.46091454e-03],\n",
       "       [ -1.35411429e+00,   4.55268211e-01,  -3.54000433e+00,\n",
       "          2.75223946e+00,  -4.60649988e+00,  -1.09193586e+00,\n",
       "          3.02092600e+00,   1.83376225e-01,  -1.34090795e+00,\n",
       "         -2.94817911e+00],\n",
       "       [ -1.13422530e+00,  -1.27366127e+00,  -5.10812130e-01,\n",
       "         -1.06636565e+00,   8.05662418e-01,  -2.32445411e+00,\n",
       "          2.54076288e-01,   2.38205309e+00,   4.66928973e-01,\n",
       "         -1.95204529e+00],\n",
       "       [  1.64348133e+00,   1.62168389e+00,   2.39894575e-02,\n",
       "         -1.47952861e+00,  -7.31371429e-02,   8.74450399e-01,\n",
       "          3.01540744e-01,  -3.19866946e+00,   8.82390292e-01,\n",
       "         -3.19794767e+00],\n",
       "       [ -3.20475972e+00,   1.60096140e+00,  -2.47625888e+00,\n",
       "          2.99939822e+00,  -6.36043776e-01,   3.41214755e+00,\n",
       "         -3.61755162e+00,  -1.93069349e+00,  -3.66738872e+00,\n",
       "         -2.62457200e-01],\n",
       "       [ -1.66921501e+00,  -1.73803539e+00,   1.96719006e+00,\n",
       "         -4.00249941e+00,   5.36824421e-01,  -1.37789551e-01,\n",
       "         -1.03429135e+00,   1.26038899e+00,   2.05401097e+00,\n",
       "         -3.00553789e+00],\n",
       "       [ -6.65624678e-02,  -5.27564789e-01,   6.47183049e-01,\n",
       "          6.06676321e-01,  -4.97281717e-01,  -1.93144606e+00,\n",
       "          8.60225066e-02,   8.48078023e-01,   3.05339760e-01,\n",
       "         -9.60362066e-01],\n",
       "       [ -2.57782800e+00,   1.48171488e+00,   2.28750021e+00,\n",
       "          3.18655055e+00,  -3.12939723e+00,  -1.92226311e+00,\n",
       "         -3.90180222e+00,   8.85593312e-01,  -2.68092063e+00,\n",
       "         -3.25383534e+00],\n",
       "       [ -5.11920880e+00,  -1.52624083e+00,  -4.56912681e+00,\n",
       "         -4.62688916e+00,  -2.35586065e+00,  -1.44561126e+00,\n",
       "         -3.07126815e+00,  -5.14643967e+00,  -8.76148337e-01,\n",
       "         -2.82659219e+00],\n",
       "       [ -8.32597055e-01,   3.40191421e+00,  -3.72680493e+00,\n",
       "         -5.39316860e-01,   3.83206728e-01,  -1.23590095e+00,\n",
       "         -1.36899543e+00,   5.34122888e+00,  -3.04797154e+00,\n",
       "         -3.37965344e+00],\n",
       "       [ -4.82429593e-02,  -2.41206393e+00,  -2.89855105e-01,\n",
       "         -1.86250768e-01,   3.54785175e-01,   3.41236946e-01,\n",
       "          4.83682395e-01,  -1.53401235e+00,  -1.34272563e+00,\n",
       "         -9.08698463e-02],\n",
       "       [  1.71845316e+00,  -4.53677585e+00,  -4.04601629e-01,\n",
       "          1.08123875e+00,   2.48794075e+00,  -2.78866153e-01,\n",
       "         -7.26325311e-01,  -2.32322204e+00,   3.78650713e-01,\n",
       "          2.04786113e-01],\n",
       "       [ -8.06549718e-01,   2.49394513e+00,  -1.89927552e+00,\n",
       "         -7.71950602e-01,  -2.46665568e+00,  -4.37645198e-01,\n",
       "         -4.30618888e+00,   2.06696847e+00,   2.10575047e+00,\n",
       "          2.86657516e+00],\n",
       "       [  4.01774563e+00,  -1.60977340e+00,  -1.26868996e-01,\n",
       "         -3.37520834e+00,   4.46473931e-01,  -7.18315942e+00,\n",
       "         -3.66793853e-01,  -1.99493596e+00,  -1.14980861e+00,\n",
       "          1.76996314e+00],\n",
       "       [  4.81697554e+00,  -9.59414061e-01,   2.76224400e-01,\n",
       "          5.72210163e-02,  -5.11884443e+00,  -1.85989851e-02,\n",
       "         -4.29632637e+00,   2.27948090e+00,  -9.88324195e-01,\n",
       "         -2.48291744e+00],\n",
       "       [  1.17567785e+00,  -1.07548009e+00,  -1.00111166e+00,\n",
       "         -2.39282204e-02,  -7.40805875e-01,   3.20619028e+00,\n",
       "          8.74098666e-01,  -1.69475058e+00,  -3.60287090e+00,\n",
       "         -1.33157765e+00],\n",
       "       [ -2.86019962e+00,  -1.79969505e+00,   1.26116536e+00,\n",
       "         -3.45233302e+00,  -9.75433596e-01,   3.31479608e-01,\n",
       "         -7.42146552e-01,   3.77551483e-03,   1.36020249e+00,\n",
       "         -9.23825653e-01],\n",
       "       [ -1.51863433e+00,  -2.15487255e+00,   1.49066470e-01,\n",
       "         -2.18161188e+00,   1.41413812e+00,  -2.21669839e-02,\n",
       "          2.54463105e-01,   1.61143600e+00,  -4.09122951e+00,\n",
       "          1.82765351e+00],\n",
       "       [  6.07648592e-01,  -1.62465146e+00,   1.24553989e-01,\n",
       "          1.78829395e+00,  -9.21523096e-01,   1.50628901e+00,\n",
       "          1.81230022e-01,   3.70821632e-01,   1.07360873e+00,\n",
       "         -8.39406837e-01],\n",
       "       [  1.60119514e+00,  -3.15696733e+00,   1.38821442e+00,\n",
       "          4.00092085e+00,  -2.61902791e+00,  -3.61443151e-01,\n",
       "          4.49225177e-01,  -1.45505915e+00,   1.29930083e+00,\n",
       "         -4.31856389e+00],\n",
       "       [  7.78886599e-01,   2.94118893e+00,  -3.55499158e+00,\n",
       "         -3.59846415e+00,  -2.26173433e+00,   4.37778237e+00,\n",
       "          3.18695271e-01,  -1.43967021e+00,  -2.79311669e+00,\n",
       "         -1.47538879e-01],\n",
       "       [  2.91702943e-02,  -2.33518277e+00,   3.76189918e+00,\n",
       "          1.92234089e+00,  -2.49539691e+00,  -1.38748113e+00,\n",
       "         -3.99878044e+00,   1.01131670e+00,  -2.50931442e+00,\n",
       "         -3.10250778e+00],\n",
       "       [  3.19292851e-01,  -8.23401297e-01,   1.73594979e-01,\n",
       "          1.24826450e+00,  -1.00430314e+00,  -9.87189498e-04,\n",
       "         -2.06919965e+00,   1.40562950e-01,   8.36173840e-01,\n",
       "         -6.19455323e-01],\n",
       "       [ -1.50414773e+00,   7.57928660e-01,  -3.05807211e+00,\n",
       "         -3.13976397e+00,   6.31923307e-01,   2.83146278e+00,\n",
       "         -1.72047461e+00,  -1.35241952e+00,  -1.31286033e-01,\n",
       "          1.35900523e+00],\n",
       "       [  4.35628848e-01,  -5.74253188e-01,   4.32135830e-02,\n",
       "          3.51757762e+00,  -1.55716295e+00,  -3.07716550e+00,\n",
       "         -1.74841398e+00,   1.27552240e+00,  -2.17897098e+00,\n",
       "          2.16659099e+00],\n",
       "       [ -2.73476017e+00,   5.78377837e-03,   4.21891332e+00,\n",
       "         -2.33912974e+00,  -1.91539163e+00,  -7.03423885e-01,\n",
       "         -2.92672853e+00,  -2.66757918e-01,  -6.03751109e+00,\n",
       "         -1.79851342e+00],\n",
       "       [  1.43901336e-02,   1.14732537e-01,   2.09852546e+00,\n",
       "         -4.00980975e-01,  -4.40227445e+00,  -1.00134502e+00,\n",
       "         -2.23555012e+00,  -1.73146535e+00,   1.37089681e+00,\n",
       "          4.25067731e+00],\n",
       "       [  6.98608550e-02,   1.00311755e-01,  -1.39795822e+00,\n",
       "         -3.00515929e+00,   1.83266160e+00,   3.31965440e+00,\n",
       "         -1.53684413e+00,   6.35925282e-01,  -9.97054839e-01,\n",
       "         -4.54332359e-01],\n",
       "       [ -2.84701441e-01,   3.72098888e-01,   2.95236833e+00,\n",
       "         -1.71659883e+00,   3.97837914e+00,   3.55549378e-01,\n",
       "         -1.35136112e+00,  -3.29348763e+00,  -6.29642749e-01,\n",
       "         -4.97821432e+00],\n",
       "       [ -1.19838597e+00,  -2.57646686e+00,   1.77876943e+00,\n",
       "          1.34684570e+00,   4.01411664e-01,  -2.28291635e+00,\n",
       "         -2.17950042e+00,  -1.23619561e+00,   1.57298904e+00,\n",
       "          6.13659073e-01],\n",
       "       [ -3.50040191e+00,  -1.23078595e+00,   4.08487211e+00,\n",
       "         -2.21193299e+00,  -4.72136202e+00,  -1.08541688e+00,\n",
       "          2.20855545e+00,  -3.51010450e+00,  -3.02457715e+00,\n",
       "         -1.75717493e+00],\n",
       "       [ -5.44304728e-01,  -2.45346360e+00,  -3.62433248e+00,\n",
       "         -3.27961389e+00,   1.05186726e+00,  -5.41087036e-01,\n",
       "          2.12047794e+00,   1.55090357e+00,  -2.17631958e+00,\n",
       "         -1.19250061e+00],\n",
       "       [ -2.21938086e+00,  -3.32342767e+00,   1.42249564e-01,\n",
       "         -2.57193975e+00,  -4.16641005e+00,   5.08028908e+00,\n",
       "         -1.29487196e+00,   2.56349855e+00,  -1.22094752e+00,\n",
       "         -3.32338240e+00],\n",
       "       [ -2.46417009e+00,  -7.94640521e-01,  -1.10902456e+00,\n",
       "         -2.05682953e+00,   1.45146890e+00,  -6.37772996e+00,\n",
       "         -8.15102837e-01,  -1.28672628e+00,   1.06408632e+00,\n",
       "         -2.21887460e+00]])"
      ]
     },
     "execution_count": 50,
     "metadata": {},
     "output_type": "execute_result"
    }
   ],
   "source": [
    "W"
   ]
  },
  {
   "cell_type": "code",
   "execution_count": 45,
   "metadata": {
    "collapsed": false,
    "deletable": true,
    "editable": true,
    "slideshow": {
     "slide_type": "subslide"
    }
   },
   "outputs": [
    {
     "data": {
      "text/html": [
       "<div>\n",
       "<table border=\"1\" class=\"dataframe\">\n",
       "  <thead>\n",
       "    <tr style=\"text-align: right;\">\n",
       "      <th></th>\n",
       "      <th>iterations</th>\n",
       "      <th>test_accuracy</th>\n",
       "      <th>train_accuracy</th>\n",
       "      <th>test_loss</th>\n",
       "    </tr>\n",
       "  </thead>\n",
       "  <tbody>\n",
       "    <tr>\n",
       "      <th>0</th>\n",
       "      <td>1000</td>\n",
       "      <td>0.316429</td>\n",
       "      <td>0.318762</td>\n",
       "      <td>0.827367</td>\n",
       "    </tr>\n",
       "    <tr>\n",
       "      <th>1</th>\n",
       "      <td>2000</td>\n",
       "      <td>0.335429</td>\n",
       "      <td>0.339206</td>\n",
       "      <td>0.786708</td>\n",
       "    </tr>\n",
       "    <tr>\n",
       "      <th>2</th>\n",
       "      <td>3000</td>\n",
       "      <td>0.505</td>\n",
       "      <td>0.493349</td>\n",
       "      <td>0.621605</td>\n",
       "    </tr>\n",
       "    <tr>\n",
       "      <th>3</th>\n",
       "      <td>4000</td>\n",
       "      <td>0.541</td>\n",
       "      <td>0.533365</td>\n",
       "      <td>0.586957</td>\n",
       "    </tr>\n",
       "    <tr>\n",
       "      <th>4</th>\n",
       "      <td>5000</td>\n",
       "      <td>0.534571</td>\n",
       "      <td>0.529349</td>\n",
       "      <td>0.588969</td>\n",
       "    </tr>\n",
       "  </tbody>\n",
       "</table>\n",
       "</div>"
      ],
      "text/plain": [
       "  iterations test_accuracy train_accuracy test_loss\n",
       "0       1000      0.316429       0.318762  0.827367\n",
       "1       2000      0.335429       0.339206  0.786708\n",
       "2       3000         0.505       0.493349  0.621605\n",
       "3       4000         0.541       0.533365  0.586957\n",
       "4       5000      0.534571       0.529349  0.588969"
      ]
     },
     "execution_count": 45,
     "metadata": {},
     "output_type": "execute_result"
    }
   ],
   "source": [
    "df_data.head()"
   ]
  },
  {
   "cell_type": "code",
   "execution_count": 46,
   "metadata": {
    "collapsed": false,
    "deletable": true,
    "editable": true,
    "slideshow": {
     "slide_type": "fragment"
    }
   },
   "outputs": [
    {
     "data": {
      "text/plain": [
       "<matplotlib.legend.Legend at 0x11c140f28>"
      ]
     },
     "execution_count": 46,
     "metadata": {},
     "output_type": "execute_result"
    },
    {
     "data": {
      "image/png": "[encoded data removed]",
      "text/plain": [
       "<matplotlib.figure.Figure at 0x11cdceb38>"
      ]
     },
     "metadata": {},
     "output_type": "display_data"
    }
   ],
   "source": [
    "plt.plot(df_data.iterations, df_data.train_accuracy)\n",
    "plt.plot(df_data.iterations, df_data.test_accuracy);\n",
    "plt.legend(['Train accuracy', 'Test accuracy'])"
   ]
  },
  {
   "cell_type": "code",
   "execution_count": 108,
   "metadata": {
    "collapsed": false,
    "deletable": true,
    "editable": true,
    "slideshow": {
     "slide_type": "fragment"
    }
   },
   "outputs": [
    {
     "data": {
      "image/png": "[encoded data removed]",
      "text/plain": [
       "<matplotlib.figure.Figure at 0x129276940>"
      ]
     },
     "metadata": {},
     "output_type": "display_data"
    }
   ],
   "source": [
    "plt.plot(df_data.iterations, df_data.test_loss);"
   ]
  },
  {
   "cell_type": "markdown",
   "metadata": {
    "deletable": true,
    "editable": true,
    "slideshow": {
     "slide_type": "subslide"
    }
   },
   "source": [
    "# One layer baseline"
   ]
  },
  {
   "cell_type": "code",
   "execution_count": 90,
   "metadata": {
    "collapsed": true,
    "deletable": true,
    "editable": true,
    "slideshow": {
     "slide_type": "fragment"
    }
   },
   "outputs": [],
   "source": [
    "def learn_one_layer(X, Y, start_index, num_iter, W=None, num_epoch=1):\n",
    "    np.random.seed(3)\n",
    "    if W is None:\n",
    "        W = np.random.randn(784, 10)\n",
    "    for j in range(start_index, start_index + num_iter):\n",
    "        i = indices[j]\n",
    "        x = np.array(X[i], ndmin=2)\n",
    "        y = np.array(Y[i], ndmin=2)\n",
    "        A = np.dot(x,W)\n",
    "        P = _sigmoid(A)\n",
    "        L = 0.5 * (y - P) ** 2\n",
    "        iteration_loss = np.sum(L)\n",
    "        dLdP = -1.0 * (y - P)\n",
    "        dPdA = _sigmoid(A) * (1-_sigmoid(A))\n",
    "        dLdA = dLdP * dPdA\n",
    "        dAdW = x.T\n",
    "        dLdW = np.dot(dAdW, dLdA)\n",
    "        W -= dLdW\n",
    "    return W"
   ]
  },
  {
   "cell_type": "code",
   "execution_count": 91,
   "metadata": {
    "collapsed": true,
    "deletable": true,
    "editable": true,
    "slideshow": {
     "slide_type": "fragment"
    }
   },
   "outputs": [],
   "source": [
    "def predict_one_layer(X, W):\n",
    "    A = np.dot(X,W)\n",
    "    P = _sigmoid(A)\n",
    "    return P"
   ]
  },
  {
   "cell_type": "markdown",
   "metadata": {
    "deletable": true,
    "editable": true,
    "slideshow": {
     "slide_type": "subslide"
    }
   },
   "source": [
    "## Testing one layer baseline"
   ]
  },
  {
   "cell_type": "code",
   "execution_count": 93,
   "metadata": {
    "collapsed": false,
    "deletable": true,
    "editable": true,
    "slideshow": {
     "slide_type": "fragment"
    }
   },
   "outputs": [
    {
     "name": "stdout",
     "output_type": "stream",
     "text": [
      "Loss after 1000 iterations is 0.921\n",
      "Loss after 11000 iterations is 0.773\n",
      "Loss after 21000 iterations is 0.757\n",
      "Loss after 31000 iterations is 0.646\n",
      "Loss after 41000 iterations is 0.611\n",
      "Loss after 51000 iterations is 0.604\n",
      "Loss after 61000 iterations is 0.592\n"
     ]
    }
   ],
   "source": [
    "df_data = pd.DataFrame(index=[0], columns=['iterations', \n",
    "                                           'test_accuracy',\n",
    "                                           'train_accuracy', \n",
    "                                           'test_loss'])\n",
    "train_size = X_train.shape[0]\n",
    "num_iter=1000\n",
    "num_iter_total = 0\n",
    "for i in range(int(train_size / num_iter)):\n",
    "    if i == 0:\n",
    "        W = learn_one_layer(X_train, Y_train, num_iter_total, num_iter, W=None)\n",
    "    else:\n",
    "        W = learn_one_layer(X_train, Y_train, num_iter_total, num_iter, W=W)\n",
    "        \n",
    "    P_test = predict_one_layer(X_test, W)\n",
    "    P_train = predict_one_layer(X_train, W)\n",
    "    test_accuracy, test_loss = accuracy(P_test, Y_test, loss=True)\n",
    "    if (num_iter_total - num_iter) % 10000 == 0:\n",
    "        print(\"Loss after\", num_iter_total, \n",
    "              \"iterations is\", np.round(test_loss, 3))\n",
    "    train_accuracy = accuracy(P_train, Y_train)\n",
    "    num_iter_total += num_iter\n",
    "    df_data.loc[i, :] = [num_iter_total,\n",
    "                         test_accuracy,\n",
    "                         train_accuracy, \n",
    "                         test_loss]    "
   ]
  },
  {
   "cell_type": "code",
   "execution_count": 112,
   "metadata": {
    "collapsed": false,
    "deletable": true,
    "editable": true,
    "slideshow": {
     "slide_type": "subslide"
    }
   },
   "outputs": [
    {
     "data": {
      "text/html": [
       "<div>\n",
       "<style>\n",
       "    .dataframe thead tr:only-child th {\n",
       "        text-align: right;\n",
       "    }\n",
       "\n",
       "    .dataframe thead th {\n",
       "        text-align: left;\n",
       "    }\n",
       "\n",
       "    .dataframe tbody tr th {\n",
       "        vertical-align: top;\n",
       "    }\n",
       "</style>\n",
       "<table border=\"1\" class=\"dataframe\">\n",
       "  <thead>\n",
       "    <tr style=\"text-align: right;\">\n",
       "      <th></th>\n",
       "      <th>iterations</th>\n",
       "      <th>test_accuracy</th>\n",
       "      <th>train_accuracy</th>\n",
       "      <th>test_loss</th>\n",
       "    </tr>\n",
       "  </thead>\n",
       "  <tbody>\n",
       "    <tr>\n",
       "      <th>0</th>\n",
       "      <td>1000</td>\n",
       "      <td>0.368571</td>\n",
       "      <td>0.365333</td>\n",
       "      <td>0.748181</td>\n",
       "    </tr>\n",
       "    <tr>\n",
       "      <th>1</th>\n",
       "      <td>2000</td>\n",
       "      <td>0.465286</td>\n",
       "      <td>0.466016</td>\n",
       "      <td>0.665888</td>\n",
       "    </tr>\n",
       "    <tr>\n",
       "      <th>2</th>\n",
       "      <td>3000</td>\n",
       "      <td>0.549714</td>\n",
       "      <td>0.548937</td>\n",
       "      <td>0.587754</td>\n",
       "    </tr>\n",
       "    <tr>\n",
       "      <th>3</th>\n",
       "      <td>4000</td>\n",
       "      <td>0.613143</td>\n",
       "      <td>0.617317</td>\n",
       "      <td>0.526804</td>\n",
       "    </tr>\n",
       "    <tr>\n",
       "      <th>4</th>\n",
       "      <td>5000</td>\n",
       "      <td>0.676143</td>\n",
       "      <td>0.676095</td>\n",
       "      <td>0.431068</td>\n",
       "    </tr>\n",
       "  </tbody>\n",
       "</table>\n",
       "</div>"
      ],
      "text/plain": [
       "  iterations test_accuracy train_accuracy test_loss\n",
       "0       1000      0.368571       0.365333  0.748181\n",
       "1       2000      0.465286       0.466016  0.665888\n",
       "2       3000      0.549714       0.548937  0.587754\n",
       "3       4000      0.613143       0.617317  0.526804\n",
       "4       5000      0.676143       0.676095  0.431068"
      ]
     },
     "execution_count": 112,
     "metadata": {},
     "output_type": "execute_result"
    }
   ],
   "source": [
    "df_data.head()"
   ]
  },
  {
   "cell_type": "markdown",
   "metadata": {
    "deletable": true,
    "editable": true,
    "slideshow": {
     "slide_type": "subslide"
    }
   },
   "source": [
    "## Testing one layer baseline"
   ]
  },
  {
   "cell_type": "code",
   "execution_count": 95,
   "metadata": {
    "collapsed": false,
    "deletable": true,
    "editable": true,
    "slideshow": {
     "slide_type": "fragment"
    }
   },
   "outputs": [
    {
     "data": {
      "text/plain": [
       "<matplotlib.legend.Legend at 0x1096c5ba8>"
      ]
     },
     "execution_count": 95,
     "metadata": {},
     "output_type": "execute_result"
    },
    {
     "data": {
      "image/png": "[encoded data removed]",
      "text/plain": [
       "<matplotlib.figure.Figure at 0x109418208>"
      ]
     },
     "metadata": {},
     "output_type": "display_data"
    }
   ],
   "source": [
    "plt.plot(df_data.iterations, df_data.train_accuracy)\n",
    "plt.plot(df_data.iterations, df_data.test_accuracy);\n",
    "plt.legend(['Train accuracy', 'Test accuracy'])"
   ]
  },
  {
   "cell_type": "code",
   "execution_count": 96,
   "metadata": {
    "collapsed": false,
    "deletable": true,
    "editable": true,
    "slideshow": {
     "slide_type": "fragment"
    }
   },
   "outputs": [
    {
     "data": {
      "image/png": "[encoded data removed]",
      "text/plain": [
       "<matplotlib.figure.Figure at 0x109418860>"
      ]
     },
     "metadata": {},
     "output_type": "display_data"
    }
   ],
   "source": [
    "plt.plot(df_data.iterations, df_data.test_loss);"
   ]
  },
  {
   "cell_type": "markdown",
   "metadata": {
    "deletable": true,
    "editable": true,
    "slideshow": {
     "slide_type": "fragment"
    }
   },
   "source": [
    "Note: you can get [92% accuracy on MNIST using Logistic Regression](https://www.tensorflow.org/get_started/mnist/beginners). In this case, we didn't let our net run long enough for the accuracy to get that high. I ran the net for one epoch just to have an apples-to-apples comparision between this an a neural net with one hidden layer."
   ]
  },
  {
   "cell_type": "markdown",
   "metadata": {
    "deletable": true,
    "editable": true,
    "slideshow": {
     "slide_type": "subslide"
    }
   },
   "source": [
    "# Understanding the hidden nodes"
   ]
  },
  {
   "cell_type": "markdown",
   "metadata": {
    "deletable": true,
    "editable": true,
    "slideshow": {
     "slide_type": "fragment"
    }
   },
   "source": [
    "Let's try to understand what the 50 \"hidden\" nodes in our two layer neural network are actually doing. We'll look at the number 4, since that was the number of the image we randomly chose earlier:"
   ]
  },
  {
   "cell_type": "code",
   "execution_count": 109,
   "metadata": {
    "collapsed": true,
    "deletable": true,
    "editable": true,
    "slideshow": {
     "slide_type": "fragment"
    }
   },
   "outputs": [],
   "source": [
    "def subset_number(number, X_test, Y_test):\n",
    "    actuals = [np.argmax(x) for x in Y_test]\n",
    "    indices_number = [x == number for x in actuals]\n",
    "    \n",
    "    X_test_subset = X_test[indices_number]\n",
    "    Y_test_subset = Y_test[indices_number]\n",
    "    \n",
    "    return X_test_subset, Y_test_subset"
   ]
  },
  {
   "cell_type": "code",
   "execution_count": 110,
   "metadata": {
    "collapsed": true,
    "deletable": true,
    "editable": true,
    "slideshow": {
     "slide_type": "fragment"
    }
   },
   "outputs": [],
   "source": [
    "x4, y4 = subset_number(4, X_test, Y_test)"
   ]
  },
  {
   "cell_type": "markdown",
   "metadata": {
    "deletable": true,
    "editable": true,
    "slideshow": {
     "slide_type": "subslide"
    }
   },
   "source": [
    "## Understanding the hidden nodes"
   ]
  },
  {
   "cell_type": "markdown",
   "metadata": {
    "deletable": true,
    "editable": true,
    "slideshow": {
     "slide_type": "fragment"
    }
   },
   "source": [
    "Let's look at the absolute values of the weights going from the hidden layer to neuron that determines whether an image will be predicted to be a \"4\":"
   ]
  },
  {
   "cell_type": "code",
   "execution_count": 111,
   "metadata": {
    "collapsed": false,
    "deletable": true,
    "editable": true,
    "slideshow": {
     "slide_type": "fragment"
    }
   },
   "outputs": [
    {
     "data": {
      "text/plain": [
       "array([ 0.99449417,  1.98429933,  2.82371716,  3.48010878,  2.2579907 ,\n",
       "        0.64772248,  1.17105235,  2.33184894,  0.2572024 ,  1.42756439,\n",
       "        1.18732571,  0.21992582,  2.30523504,  0.38174461,  2.38507171,\n",
       "        1.76656724,  2.20976963,  3.12920179,  0.82623126,  3.26569253,\n",
       "        1.1344759 ,  2.07066254,  3.0663163 ,  0.46234842,  2.56397739,\n",
       "        1.82419642,  0.43266411,  0.49476118,  1.61181721,  0.36083657,\n",
       "        7.69405401,  0.42256854,  2.02203338,  1.48895161,  1.18299701,\n",
       "        1.98468393,  0.73821824,  3.40928235,  2.79826419,  0.08400399,\n",
       "        1.38695132,  0.5522375 ,  4.43110294,  0.28233517,  1.0401166 ,\n",
       "        0.19656483,  3.94314668,  0.90369211,  2.98258685,  0.28211424])"
      ]
     },
     "execution_count": 111,
     "metadata": {},
     "output_type": "execute_result"
    }
   ],
   "source": [
    "np.abs(W[:, 4])"
   ]
  },
  {
   "cell_type": "markdown",
   "metadata": {
    "deletable": true,
    "editable": true,
    "slideshow": {
     "slide_type": "fragment"
    }
   },
   "source": [
    "This next function tells us which argument which of these 50 neurons have the highest values:"
   ]
  },
  {
   "cell_type": "code",
   "execution_count": 114,
   "metadata": {
    "collapsed": false,
    "deletable": true,
    "editable": true,
    "slideshow": {
     "slide_type": "fragment"
    }
   },
   "outputs": [
    {
     "data": {
      "text/plain": [
       "array([30, 42, 46,  3, 37, 19, 17, 22, 48,  2, 38, 24, 14,  7, 12,  4, 16,\n",
       "       21, 32, 35,  1, 25, 15, 28, 33,  9, 40, 10, 34,  6, 20, 44,  0, 47,\n",
       "       18, 36,  5, 41, 27, 23, 26, 31, 13, 29, 43, 49,  8, 11, 45, 39])"
      ]
     },
     "execution_count": 114,
     "metadata": {},
     "output_type": "execute_result"
    }
   ],
   "source": [
    "np.argsort(np.abs(W[:, 4]))[::-1]"
   ]
  },
  {
   "cell_type": "markdown",
   "metadata": {
    "deletable": true,
    "editable": true,
    "slideshow": {
     "slide_type": "fragment"
    }
   },
   "source": [
    "So, \"neuron 30\" is the most important neuron for determining whether a number is a \"4\" or not."
   ]
  },
  {
   "cell_type": "markdown",
   "metadata": {
    "deletable": true,
    "editable": true,
    "slideshow": {
     "slide_type": "subslide"
    }
   },
   "source": [
    "## Understanding the hidden nodes"
   ]
  },
  {
   "cell_type": "markdown",
   "metadata": {
    "deletable": true,
    "editable": true,
    "slideshow": {
     "slide_type": "fragment"
    }
   },
   "source": [
    "Let's visualize an \"average 4\" just so we know what we're trying to predict:"
   ]
  },
  {
   "cell_type": "code",
   "execution_count": 119,
   "metadata": {
    "collapsed": true,
    "deletable": true,
    "editable": true,
    "slideshow": {
     "slide_type": "fragment"
    }
   },
   "outputs": [],
   "source": [
    "def visualize_average_number(number):\n",
    "    x_number = subset_number(number, X_test, Y_test)[0]\n",
    "    mean_number = x_number.mean(axis=0)\n",
    "    plt.imshow(1.0 - mean_number.reshape(28,28), cmap='gray')"
   ]
  },
  {
   "cell_type": "code",
   "execution_count": 120,
   "metadata": {
    "collapsed": false,
    "deletable": true,
    "editable": true,
    "slideshow": {
     "slide_type": "fragment"
    }
   },
   "outputs": [
    {
     "data": {
      "image/png": "[encoded data removed]",
      "text/plain": [
       "<matplotlib.figure.Figure at 0x1092e28d0>"
      ]
     },
     "metadata": {},
     "output_type": "display_data"
    }
   ],
   "source": [
    "visualize_average_number(4)"
   ]
  },
  {
   "cell_type": "markdown",
   "metadata": {
    "deletable": true,
    "editable": true,
    "slideshow": {
     "slide_type": "subslide"
    }
   },
   "source": [
    "## Understanding the hidden nodes"
   ]
  },
  {
   "cell_type": "markdown",
   "metadata": {
    "deletable": true,
    "editable": true,
    "slideshow": {
     "slide_type": "fragment"
    }
   },
   "source": [
    "Now, let's visualize the _weights_ connected to the hidden nodes that contribute most to determining whether an image is a \"4\" or not."
   ]
  },
  {
   "cell_type": "code",
   "execution_count": 121,
   "metadata": {
    "collapsed": true,
    "deletable": true,
    "editable": true,
    "slideshow": {
     "slide_type": "fragment"
    }
   },
   "outputs": [],
   "source": [
    "def visualize_hidden(index):\n",
    "    plt.imshow(1.0 - V[:, index].reshape(28,28), cmap='gray')"
   ]
  },
  {
   "cell_type": "markdown",
   "metadata": {
    "deletable": true,
    "editable": true,
    "slideshow": {
     "slide_type": "subslide"
    }
   },
   "source": [
    "## Understanding the hidden nodes"
   ]
  },
  {
   "cell_type": "markdown",
   "metadata": {
    "deletable": true,
    "editable": true
   },
   "source": [
    "The most common influential hidden cell:"
   ]
  },
  {
   "cell_type": "code",
   "execution_count": 122,
   "metadata": {
    "collapsed": false,
    "deletable": true,
    "editable": true,
    "slideshow": {
     "slide_type": "fragment"
    }
   },
   "outputs": [
    {
     "data": {
      "image/png": "[encoded data removed]",
      "text/plain": [
       "<matplotlib.figure.Figure at 0x10a1f6c50>"
      ]
     },
     "metadata": {},
     "output_type": "display_data"
    }
   ],
   "source": [
    "visualize_hidden(30)"
   ]
  },
  {
   "cell_type": "markdown",
   "metadata": {
    "deletable": true,
    "editable": true,
    "slideshow": {
     "slide_type": "subslide"
    }
   },
   "source": [
    "The second and third most influential:"
   ]
  },
  {
   "cell_type": "code",
   "execution_count": 324,
   "metadata": {
    "collapsed": false,
    "deletable": true,
    "editable": true,
    "slideshow": {
     "slide_type": "fragment"
    }
   },
   "outputs": [
    {
     "data": {
      "image/png": "[encoded data removed]",
      "text/plain": [
       "<matplotlib.figure.Figure at 0x1125d79e8>"
      ]
     },
     "metadata": {},
     "output_type": "display_data"
    }
   ],
   "source": [
    "visualize_hidden(42)"
   ]
  },
  {
   "cell_type": "code",
   "execution_count": 325,
   "metadata": {
    "collapsed": false,
    "deletable": true,
    "editable": true,
    "slideshow": {
     "slide_type": "fragment"
    }
   },
   "outputs": [
    {
     "data": {
      "image/png": "[encoded data removed]",
      "text/plain": [
       "<matplotlib.figure.Figure at 0x1071e0400>"
      ]
     },
     "metadata": {},
     "output_type": "display_data"
    }
   ],
   "source": [
    "visualize_hidden(46)"
   ]
  }
 ],
 "metadata": {
  "kernelspec": {
   "display_name": "Python 3",
   "language": "python",
   "name": "python3"
  },
  "language_info": {
   "codemirror_mode": {
    "name": "ipython",
    "version": 3
   },
   "file_extension": ".py",
   "mimetype": "text/x-python",
   "name": "python",
   "nbconvert_exporter": "python",
   "pygments_lexer": "ipython3",
   "version": "3.6.2"
  },
  "toc": {
   "colors": {
    "hover_highlight": "#DAA520",
    "running_highlight": "#FF0000",
    "selected_highlight": "#FFD700"
   },
   "moveMenuLeft": true,
   "nav_menu": {
    "height": "47px",
    "width": "252px"
   },
   "navigate_menu": true,
   "number_sections": true,
   "sideBar": true,
   "threshold": 4,
   "toc_cell": false,
   "toc_section_display": "block",
   "toc_window_display": false,
   "widenNotebook": false
  }
 },
 "nbformat": 4,
 "nbformat_minor": 2
}
