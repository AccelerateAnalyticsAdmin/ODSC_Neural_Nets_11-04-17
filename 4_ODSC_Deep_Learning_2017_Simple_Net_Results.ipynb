{
 "cells": [
  {
   "cell_type": "markdown",
   "metadata": {},
   "source": [
    "# CSS"
   ]
  },
  {
   "cell_type": "code",
   "execution_count": 1,
   "metadata": {},
   "outputs": [
    {
     "data": {
      "text/html": [
       "\n",
       "<style>\n",
       ".expo {\n",
       "  line-height: 150%;\n",
       "}\n",
       "\n",
       ".visual {\n",
       "  width: 400px;\n",
       "}\n",
       "\n",
       "</style>\n"
      ],
      "text/plain": [
       "<IPython.core.display.HTML object>"
      ]
     },
     "execution_count": 1,
     "metadata": {},
     "output_type": "execute_result"
    }
   ],
   "source": [
    "from IPython.display import HTML\n",
    "style = \"\"\"\n",
    "<style>\n",
    ".expo {\n",
    "  line-height: 150%;\n",
    "}\n",
    "\n",
    ".visual {\n",
    "  width: 400px;\n",
    "}\n",
    "\n",
    "</style>\n",
    "\"\"\"\n",
    "HTML(style)"
   ]
  },
  {
   "cell_type": "markdown",
   "metadata": {
    "slideshow": {
     "slide_type": "slide"
    }
   },
   "source": [
    "# Putting this all together"
   ]
  },
  {
   "cell_type": "markdown",
   "metadata": {
    "slideshow": {
     "slide_type": "fragment"
    }
   },
   "source": [
    "Now let's write some functions that train the neural net. The following just wraps around what we've already done, running one batch through the neural net:"
   ]
  },
  {
   "cell_type": "code",
   "execution_count": 24,
   "metadata": {
    "slideshow": {
     "slide_type": "fragment"
    }
   },
   "outputs": [],
   "source": [
    "def learn(V, W, x_batch, y_batch):\n",
    "    # forward pass\n",
    "    A = np.dot(x_batch,V)\n",
    "    B = sigmoid(A)\n",
    "    C = np.dot(B,W)\n",
    "    P = sigmoid(C)\n",
    "    \n",
    "    # loss\n",
    "    L = 0.5 * (y_batch - P) ** 2\n",
    "    \n",
    "    # backpropogation\n",
    "    dLdP = -1.0 * (y_batch - P)\n",
    "    dPdC = sigmoid(C) * (1-sigmoid(C))\n",
    "    dLdC = dLdP * dPdC\n",
    "    dCdW = B.T\n",
    "    dLdW = np.dot(dCdW, dLdC)\n",
    "    dCdB = W.T\n",
    "    dBdA = sigmoid(A) * (1-sigmoid(A))\n",
    "    dAdV = x.T\n",
    "    dLdV = np.dot(dAdV, np.dot(dLdP * dPdC, dCdB) * dBdA)\n",
    "    \n",
    "    # update the weights\n",
    "    W -= dLdW\n",
    "    V -= dLdV\n",
    "    \n",
    "    return V, W"
   ]
  },
  {
   "cell_type": "markdown",
   "metadata": {
    "slideshow": {
     "slide_type": "subslide"
    }
   },
   "source": [
    "### Putting this all together, Pt. 1"
   ]
  },
  {
   "cell_type": "markdown",
   "metadata": {
    "slideshow": {
     "slide_type": "fragment"
    }
   },
   "source": [
    "Now a function to initialize the weights:"
   ]
  },
  {
   "cell_type": "code",
   "execution_count": 36,
   "metadata": {
    "slideshow": {
     "slide_type": "fragment"
    }
   },
   "outputs": [],
   "source": [
    "def initialize_weights(num_hidden=4):\n",
    "    '''\n",
    "    Randomly initializes weights\n",
    "    '''\n",
    "    np.random.seed(1104)\n",
    "    V = np.random.randn(3, num_hidden)\n",
    "    W = np.random.randn(num_hidden, 1)\n",
    "    return V, W"
   ]
  },
  {
   "cell_type": "markdown",
   "metadata": {
    "slideshow": {
     "slide_type": "subslide"
    }
   },
   "source": [
    "### Putting this all together, Pt. 2"
   ]
  },
  {
   "cell_type": "markdown",
   "metadata": {
    "slideshow": {
     "slide_type": "fragment"
    }
   },
   "source": [
    "And one to shuffle the data:"
   ]
  },
  {
   "cell_type": "code",
   "execution_count": 26,
   "metadata": {
    "slideshow": {
     "slide_type": "fragment"
    }
   },
   "outputs": [],
   "source": [
    "def shuffle_x_y(X, Y):\n",
    "    '''\n",
    "    Each array must be two dimensional\n",
    "    '''\n",
    "    np.random.seed(1104)\n",
    "    train_size = X.shape[0]\n",
    "    indices = list(range(train_size))\n",
    "    np.random.shuffle(indices)\n",
    "    return X[indices], Y[indices]"
   ]
  },
  {
   "cell_type": "markdown",
   "metadata": {
    "slideshow": {
     "slide_type": "subslide"
    }
   },
   "source": [
    "### Putting this all together, Pt. 3"
   ]
  },
  {
   "cell_type": "markdown",
   "metadata": {
    "slideshow": {
     "slide_type": "fragment"
    }
   },
   "source": [
    "This runs the data through the net, one observation at a time:"
   ]
  },
  {
   "cell_type": "code",
   "execution_count": 27,
   "metadata": {
    "slideshow": {
     "slide_type": "fragment"
    }
   },
   "outputs": [],
   "source": [
    "def one_epoch(X, Y, V, W):\n",
    "    '''\n",
    "    Run one epoch an element at a time through the net.\n",
    "    '''\n",
    "    for index in range(X.shape[0]):\n",
    "        x_batch = np.array(X[index], ndmin=2)\n",
    "        y_batch = np.array(Y[index], ndmin=2)\n",
    "        learn(V, W, x_batch, y_batch)\n",
    "    return V, W"
   ]
  },
  {
   "cell_type": "markdown",
   "metadata": {
    "slideshow": {
     "slide_type": "subslide"
    }
   },
   "source": [
    "### Putting this all together, Pt. 4"
   ]
  },
  {
   "cell_type": "markdown",
   "metadata": {
    "slideshow": {
     "slide_type": "fragment"
    }
   },
   "source": [
    "This takes in a batch of observations and makes predictions using the latest learned weights:"
   ]
  },
  {
   "cell_type": "code",
   "execution_count": 28,
   "metadata": {
    "slideshow": {
     "slide_type": "fragment"
    }
   },
   "outputs": [],
   "source": [
    "def predict(x_batch, V, W):\n",
    "    '''\n",
    "    Make a prediction given a batch of observations and the weights.\n",
    "    '''\n",
    "    A = np.dot(x_batch,V)\n",
    "    B = sigmoid(A)\n",
    "    C = np.dot(B,W)\n",
    "    P = sigmoid(C)\n",
    "    return P"
   ]
  },
  {
   "cell_type": "markdown",
   "metadata": {
    "slideshow": {
     "slide_type": "subslide"
    }
   },
   "source": [
    "### Putting this all together, Pt. 5"
   ]
  },
  {
   "cell_type": "markdown",
   "metadata": {
    "slideshow": {
     "slide_type": "fragment"
    }
   },
   "source": [
    "This calculates the loss:"
   ]
  },
  {
   "cell_type": "code",
   "execution_count": 29,
   "metadata": {
    "slideshow": {
     "slide_type": "fragment"
    }
   },
   "outputs": [],
   "source": [
    "def loss(prediction, actual, print_loss=False):\n",
    "    '''\n",
    "    Calculate the loss.\n",
    "    '''\n",
    "    df = pd.DataFrame(data=np.concatenate([prediction, actual], axis=1),\n",
    "                      columns=['predictions', 'actuals'])\n",
    "    df['loss'] = 0.5 * (df['predictions'] - df['actuals']) ** 2\n",
    "    return df['loss'].mean()"
   ]
  },
  {
   "cell_type": "markdown",
   "metadata": {
    "slideshow": {
     "slide_type": "subslide"
    }
   },
   "source": [
    "### Putting this all together, Pt. 6"
   ]
  },
  {
   "cell_type": "markdown",
   "metadata": {
    "slideshow": {
     "slide_type": "fragment"
    }
   },
   "source": [
    "Finally, this function trains the net for a number of epochs and outputs a data frame illustrating the training progress:"
   ]
  },
  {
   "cell_type": "code",
   "execution_count": 30,
   "metadata": {
    "slideshow": {
     "slide_type": "fragment"
    }
   },
   "outputs": [],
   "source": [
    "def train(X, Y, V, W, epochs=100):\n",
    "    '''\n",
    "    Train the net for a number of epochs.\n",
    "    '''\n",
    "    losses = []\n",
    "    epochs_list = []\n",
    "    for i in range(epochs+1):\n",
    "        V, W = one_epoch(X, Y, V, W)\n",
    "        if i % (epochs / 10) == 0:\n",
    "            preds = predict(X, V, W)\n",
    "            loss_epoch = loss(preds, Y)\n",
    "            epochs_list.append(i)\n",
    "            losses.append(loss_epoch)\n",
    "    return pd.DataFrame({'epoch' : epochs_list, \n",
    "                         'loss' : losses})"
   ]
  },
  {
   "cell_type": "markdown",
   "metadata": {
    "slideshow": {
     "slide_type": "subslide"
    }
   },
   "source": [
    "### Putting this all together, Pt. 7"
   ]
  },
  {
   "cell_type": "markdown",
   "metadata": {
    "slideshow": {
     "slide_type": "fragment"
    }
   },
   "source": [
    "This function wraps around much of what we've done so far, training the net and displaying the result of the training:"
   ]
  },
  {
   "cell_type": "code",
   "execution_count": 31,
   "metadata": {
    "slideshow": {
     "slide_type": "fragment"
    }
   },
   "outputs": [],
   "source": [
    "def train_and_display(X, Y, num_epochs=1000, num_hidden=8):\n",
    "    X, Y = shuffle_x_y(X, Y)\n",
    "    V, W = initialize_weights(num_hidden=num_hidden)\n",
    "    df = train(X, Y, V, W, num_epochs)\n",
    "    df_print(df)\n",
    "    return V, W"
   ]
  },
  {
   "cell_type": "markdown",
   "metadata": {
    "slideshow": {
     "slide_type": "subslide"
    }
   },
   "source": [
    "### Putting this all together, Pt. 8"
   ]
  },
  {
   "cell_type": "markdown",
   "metadata": {
    "slideshow": {
     "slide_type": "fragment"
    }
   },
   "source": [
    "And this monster of a function computes the accuracy of the net:"
   ]
  },
  {
   "cell_type": "code",
   "execution_count": 39,
   "metadata": {
    "slideshow": {
     "slide_type": "fragment"
    }
   },
   "outputs": [],
   "source": [
    "def accuracy(X, Y, V, W):\n",
    "    \n",
    "    def _df_actual_predicted(X, Y, V, W):\n",
    "        return pd.DataFrame(np.round(np.concatenate([Y, predict(X, V, W)], axis=1), 2),\n",
    "                            columns=[\"Actual\", \"Predicted\"])\n",
    "\n",
    "    df = _df_actual_predicted(X, Y, V, W)\n",
    "    print(\"The data frame of the predictions this neural net produces is:\\n\",\n",
    "          df)\n",
    "    df['Prediction'] = df['Predicted'] > 0.5\n",
    "\n",
    "    def _correct_prediction(row):\n",
    "        return bool(row['Actual']) == row['Prediction']\n",
    "    \n",
    "    df['Correct'] = df.apply(lambda x: _correct_prediction(x), axis=1)\n",
    "        \n",
    "    print(\"The accuracy of this trained neural net is\", \n",
    "          df['Correct'].sum() / len(df['Correct']))\n",
    "    \n",
    "    return df['Correct'].sum() / len(df['Correct'])"
   ]
  },
  {
   "cell_type": "markdown",
   "metadata": {
    "slideshow": {
     "slide_type": "subslide"
    }
   },
   "source": [
    "### Putting this all together, Pt. 9"
   ]
  },
  {
   "cell_type": "markdown",
   "metadata": {
    "slideshow": {
     "slide_type": "fragment"
    }
   },
   "source": [
    "Now, let's play around with some results:"
   ]
  },
  {
   "cell_type": "code",
   "execution_count": 40,
   "metadata": {
    "slideshow": {
     "slide_type": "fragment"
    }
   },
   "outputs": [
    {
     "name": "stdout",
     "output_type": "stream",
     "text": [
      "    epoch  loss\n",
      "0       0  0.22\n",
      "1     100  0.05\n",
      "2     200  0.04\n",
      "3     300  0.04\n",
      "4     400  0.03\n",
      "5     500  0.03\n",
      "6     600  0.02\n",
      "7     700  0.02\n",
      "8     800  0.02\n",
      "9     900  0.02\n",
      "10   1000  0.01\n",
      "The data frame of the predictions this neural net produces is:\n",
      "    Actual  Predicted\n",
      "0     1.0       0.67\n",
      "1     0.0       0.20\n",
      "2     1.0       1.00\n",
      "3     0.0       0.00\n",
      "4     0.0       0.13\n",
      "5     0.0       0.00\n",
      "6     1.0       0.99\n",
      "7     1.0       0.76\n",
      "The accuracy of this trained neural net is 1.0\n"
     ]
    },
    {
     "data": {
      "text/plain": [
       "1.0"
      ]
     },
     "execution_count": 40,
     "metadata": {},
     "output_type": "execute_result"
    }
   ],
   "source": [
    "V, W = train_and_display(X, Y, 1000, 8)\n",
    "accuracy(X, Y, V, W)"
   ]
  },
  {
   "cell_type": "code",
   "execution_count": null,
   "metadata": {},
   "outputs": [],
   "source": []
  }
 ],
 "metadata": {
  "kernelspec": {
   "display_name": "Python 3",
   "language": "python",
   "name": "python3"
  },
  "language_info": {
   "codemirror_mode": {
    "name": "ipython",
    "version": 3
   },
   "file_extension": ".py",
   "mimetype": "text/x-python",
   "name": "python",
   "nbconvert_exporter": "python",
   "pygments_lexer": "ipython3",
   "version": "3.6.2"
  }
 },
 "nbformat": 4,
 "nbformat_minor": 2
}
